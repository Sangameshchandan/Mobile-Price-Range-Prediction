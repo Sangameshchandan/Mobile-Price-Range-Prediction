{
  "nbformat": 4,
  "nbformat_minor": 0,
  "metadata": {
    "colab": {
      "name": "Mobile Price Range Prediction.ipynb",
      "provenance": [],
      "mount_file_id": "1BK3QVQ6R6MFyj8Kh-QOsxrDGlGBIeqvk",
      "authorship_tag": "ABX9TyPi8drGavsdc++L85MAV8zS",
      "include_colab_link": true
    },
    "kernelspec": {
      "name": "python3",
      "display_name": "Python 3"
    },
    "language_info": {
      "name": "python"
    }
  },
  "cells": [
    {
      "cell_type": "markdown",
      "metadata": {
        "id": "view-in-github",
        "colab_type": "text"
      },
      "source": [
        "<a href=\"https://colab.research.google.com/github/Sangameshchandan/Mobile-Price-Range-Prediction/blob/main/Mobile_Price_Range_Prediction.ipynb\" target=\"_parent\"><img src=\"https://colab.research.google.com/assets/colab-badge.svg\" alt=\"Open In Colab\"/></a>"
      ]
    },
    {
      "cell_type": "code",
      "metadata": {
        "id": "gaK0u6xAqSO2"
      },
      "source": [
        "#Importing libraries\n",
        "import pandas as pd\n",
        "import numpy as np\n",
        "from sklearn import preprocessing\n",
        "from sklearn.model_selection import train_test_split, cross_val_score\n",
        "from sklearn import metrics\n",
        "from sklearn.linear_model import LogisticRegression\n",
        "from sklearn.ensemble import RandomForestClassifier\n",
        "from sklearn.neighbors import KNeighborsClassifier\n",
        "from xgboost import XGBClassifier  \n",
        "from sklearn.metrics import classification_report, confusion_matrix, accuracy_score \n",
        "import matplotlib.pyplot as plt\n",
        "%matplotlib inline\n",
        "import seaborn as sns\n",
        "from sklearn.model_selection import RandomizedSearchCV"
      ],
      "execution_count": null,
      "outputs": []
    },
    {
      "cell_type": "code",
      "metadata": {
        "id": "09bqfIJODBTL"
      },
      "source": [
        "#loading the data\n",
        "data = pd.read_csv(\"/content/drive/MyDrive/ALMABETTER/Capstone Projects/3. Mobile Price Range Prediction/data_mobile_price_range.csv\")"
      ],
      "execution_count": null,
      "outputs": []
    },
    {
      "cell_type": "code",
      "metadata": {
        "colab": {
          "base_uri": "https://localhost:8080/",
          "height": 223
        },
        "id": "PHDTNZjZDkOy",
        "outputId": "189dce7a-dec9-44cf-84cb-b4fb6d214045"
      },
      "source": [
        "data.head()"
      ],
      "execution_count": null,
      "outputs": [
        {
          "output_type": "execute_result",
          "data": {
            "text/html": [
              "<div>\n",
              "<style scoped>\n",
              "    .dataframe tbody tr th:only-of-type {\n",
              "        vertical-align: middle;\n",
              "    }\n",
              "\n",
              "    .dataframe tbody tr th {\n",
              "        vertical-align: top;\n",
              "    }\n",
              "\n",
              "    .dataframe thead th {\n",
              "        text-align: right;\n",
              "    }\n",
              "</style>\n",
              "<table border=\"1\" class=\"dataframe\">\n",
              "  <thead>\n",
              "    <tr style=\"text-align: right;\">\n",
              "      <th></th>\n",
              "      <th>battery_power</th>\n",
              "      <th>blue</th>\n",
              "      <th>clock_speed</th>\n",
              "      <th>dual_sim</th>\n",
              "      <th>fc</th>\n",
              "      <th>four_g</th>\n",
              "      <th>int_memory</th>\n",
              "      <th>m_dep</th>\n",
              "      <th>mobile_wt</th>\n",
              "      <th>n_cores</th>\n",
              "      <th>pc</th>\n",
              "      <th>px_height</th>\n",
              "      <th>px_width</th>\n",
              "      <th>ram</th>\n",
              "      <th>sc_h</th>\n",
              "      <th>sc_w</th>\n",
              "      <th>talk_time</th>\n",
              "      <th>three_g</th>\n",
              "      <th>touch_screen</th>\n",
              "      <th>wifi</th>\n",
              "      <th>price_range</th>\n",
              "    </tr>\n",
              "  </thead>\n",
              "  <tbody>\n",
              "    <tr>\n",
              "      <th>0</th>\n",
              "      <td>842</td>\n",
              "      <td>0</td>\n",
              "      <td>2.2</td>\n",
              "      <td>0</td>\n",
              "      <td>1</td>\n",
              "      <td>0</td>\n",
              "      <td>7</td>\n",
              "      <td>0.6</td>\n",
              "      <td>188</td>\n",
              "      <td>2</td>\n",
              "      <td>2</td>\n",
              "      <td>20</td>\n",
              "      <td>756</td>\n",
              "      <td>2549</td>\n",
              "      <td>9</td>\n",
              "      <td>7</td>\n",
              "      <td>19</td>\n",
              "      <td>0</td>\n",
              "      <td>0</td>\n",
              "      <td>1</td>\n",
              "      <td>1</td>\n",
              "    </tr>\n",
              "    <tr>\n",
              "      <th>1</th>\n",
              "      <td>1021</td>\n",
              "      <td>1</td>\n",
              "      <td>0.5</td>\n",
              "      <td>1</td>\n",
              "      <td>0</td>\n",
              "      <td>1</td>\n",
              "      <td>53</td>\n",
              "      <td>0.7</td>\n",
              "      <td>136</td>\n",
              "      <td>3</td>\n",
              "      <td>6</td>\n",
              "      <td>905</td>\n",
              "      <td>1988</td>\n",
              "      <td>2631</td>\n",
              "      <td>17</td>\n",
              "      <td>3</td>\n",
              "      <td>7</td>\n",
              "      <td>1</td>\n",
              "      <td>1</td>\n",
              "      <td>0</td>\n",
              "      <td>2</td>\n",
              "    </tr>\n",
              "    <tr>\n",
              "      <th>2</th>\n",
              "      <td>563</td>\n",
              "      <td>1</td>\n",
              "      <td>0.5</td>\n",
              "      <td>1</td>\n",
              "      <td>2</td>\n",
              "      <td>1</td>\n",
              "      <td>41</td>\n",
              "      <td>0.9</td>\n",
              "      <td>145</td>\n",
              "      <td>5</td>\n",
              "      <td>6</td>\n",
              "      <td>1263</td>\n",
              "      <td>1716</td>\n",
              "      <td>2603</td>\n",
              "      <td>11</td>\n",
              "      <td>2</td>\n",
              "      <td>9</td>\n",
              "      <td>1</td>\n",
              "      <td>1</td>\n",
              "      <td>0</td>\n",
              "      <td>2</td>\n",
              "    </tr>\n",
              "    <tr>\n",
              "      <th>3</th>\n",
              "      <td>615</td>\n",
              "      <td>1</td>\n",
              "      <td>2.5</td>\n",
              "      <td>0</td>\n",
              "      <td>0</td>\n",
              "      <td>0</td>\n",
              "      <td>10</td>\n",
              "      <td>0.8</td>\n",
              "      <td>131</td>\n",
              "      <td>6</td>\n",
              "      <td>9</td>\n",
              "      <td>1216</td>\n",
              "      <td>1786</td>\n",
              "      <td>2769</td>\n",
              "      <td>16</td>\n",
              "      <td>8</td>\n",
              "      <td>11</td>\n",
              "      <td>1</td>\n",
              "      <td>0</td>\n",
              "      <td>0</td>\n",
              "      <td>2</td>\n",
              "    </tr>\n",
              "    <tr>\n",
              "      <th>4</th>\n",
              "      <td>1821</td>\n",
              "      <td>1</td>\n",
              "      <td>1.2</td>\n",
              "      <td>0</td>\n",
              "      <td>13</td>\n",
              "      <td>1</td>\n",
              "      <td>44</td>\n",
              "      <td>0.6</td>\n",
              "      <td>141</td>\n",
              "      <td>2</td>\n",
              "      <td>14</td>\n",
              "      <td>1208</td>\n",
              "      <td>1212</td>\n",
              "      <td>1411</td>\n",
              "      <td>8</td>\n",
              "      <td>2</td>\n",
              "      <td>15</td>\n",
              "      <td>1</td>\n",
              "      <td>1</td>\n",
              "      <td>0</td>\n",
              "      <td>1</td>\n",
              "    </tr>\n",
              "  </tbody>\n",
              "</table>\n",
              "</div>"
            ],
            "text/plain": [
              "   battery_power  blue  clock_speed  ...  touch_screen  wifi  price_range\n",
              "0            842     0          2.2  ...             0     1            1\n",
              "1           1021     1          0.5  ...             1     0            2\n",
              "2            563     1          0.5  ...             1     0            2\n",
              "3            615     1          2.5  ...             0     0            2\n",
              "4           1821     1          1.2  ...             1     0            1\n",
              "\n",
              "[5 rows x 21 columns]"
            ]
          },
          "metadata": {
            "tags": []
          },
          "execution_count": 4
        }
      ]
    },
    {
      "cell_type": "markdown",
      "metadata": {
        "id": "ickz3mdtDyuB"
      },
      "source": [
        "\n",
        "# Explore the dataset\n"
      ]
    },
    {
      "cell_type": "code",
      "metadata": {
        "colab": {
          "base_uri": "https://localhost:8080/"
        },
        "id": "eyTf-NH-DoRu",
        "outputId": "68aeafbd-9232-4dd2-9fcf-2e3078160f8b"
      },
      "source": [
        "data.columns"
      ],
      "execution_count": null,
      "outputs": [
        {
          "output_type": "execute_result",
          "data": {
            "text/plain": [
              "Index(['battery_power', 'blue', 'clock_speed', 'dual_sim', 'fc', 'four_g',\n",
              "       'int_memory', 'm_dep', 'mobile_wt', 'n_cores', 'pc', 'px_height',\n",
              "       'px_width', 'ram', 'sc_h', 'sc_w', 'talk_time', 'three_g',\n",
              "       'touch_screen', 'wifi', 'price_range'],\n",
              "      dtype='object')"
            ]
          },
          "metadata": {
            "tags": []
          },
          "execution_count": 5
        }
      ]
    },
    {
      "cell_type": "code",
      "metadata": {
        "colab": {
          "base_uri": "https://localhost:8080/"
        },
        "id": "mxn3asiAECL1",
        "outputId": "696f5c29-9273-4051-a1cd-7e079dd0c227"
      },
      "source": [
        "data.shape"
      ],
      "execution_count": null,
      "outputs": [
        {
          "output_type": "execute_result",
          "data": {
            "text/plain": [
              "(2000, 21)"
            ]
          },
          "metadata": {
            "tags": []
          },
          "execution_count": 6
        }
      ]
    },
    {
      "cell_type": "markdown",
      "metadata": {
        "id": "cyffTTEFEO6F"
      },
      "source": [
        "\n",
        "We have 2000 samples and 21 attributes.\n",
        "The last attribute is a target attribute, which means that we have labeled data"
      ]
    },
    {
      "cell_type": "code",
      "metadata": {
        "colab": {
          "base_uri": "https://localhost:8080/"
        },
        "id": "6UJ2LRUQEHv4",
        "outputId": "8ef81c65-6e90-40f5-a9fc-609f22bf6d27"
      },
      "source": [
        "data.dtypes"
      ],
      "execution_count": null,
      "outputs": [
        {
          "output_type": "execute_result",
          "data": {
            "text/plain": [
              "battery_power      int64\n",
              "blue               int64\n",
              "clock_speed      float64\n",
              "dual_sim           int64\n",
              "fc                 int64\n",
              "four_g             int64\n",
              "int_memory         int64\n",
              "m_dep            float64\n",
              "mobile_wt          int64\n",
              "n_cores            int64\n",
              "pc                 int64\n",
              "px_height          int64\n",
              "px_width           int64\n",
              "ram                int64\n",
              "sc_h               int64\n",
              "sc_w               int64\n",
              "talk_time          int64\n",
              "three_g            int64\n",
              "touch_screen       int64\n",
              "wifi               int64\n",
              "price_range        int64\n",
              "dtype: object"
            ]
          },
          "metadata": {
            "tags": []
          },
          "execution_count": 7
        }
      ]
    },
    {
      "cell_type": "code",
      "metadata": {
        "colab": {
          "base_uri": "https://localhost:8080/"
        },
        "id": "iYOKDk9tEV2s",
        "outputId": "7cc6663c-90f3-4621-c30e-1d114f8ba7ed"
      },
      "source": [
        "pd.isnull(data).sum()"
      ],
      "execution_count": null,
      "outputs": [
        {
          "output_type": "execute_result",
          "data": {
            "text/plain": [
              "battery_power    0\n",
              "blue             0\n",
              "clock_speed      0\n",
              "dual_sim         0\n",
              "fc               0\n",
              "four_g           0\n",
              "int_memory       0\n",
              "m_dep            0\n",
              "mobile_wt        0\n",
              "n_cores          0\n",
              "pc               0\n",
              "px_height        0\n",
              "px_width         0\n",
              "ram              0\n",
              "sc_h             0\n",
              "sc_w             0\n",
              "talk_time        0\n",
              "three_g          0\n",
              "touch_screen     0\n",
              "wifi             0\n",
              "price_range      0\n",
              "dtype: int64"
            ]
          },
          "metadata": {
            "tags": []
          },
          "execution_count": 8
        }
      ]
    },
    {
      "cell_type": "markdown",
      "metadata": {
        "id": "dJsRTKI2EfBJ"
      },
      "source": [
        "We do not have any null values in our dataset."
      ]
    },
    {
      "cell_type": "code",
      "metadata": {
        "colab": {
          "base_uri": "https://localhost:8080/"
        },
        "id": "NwQk_K8MK_F2",
        "outputId": "27cafbba-c5c6-41a5-af64-7e4106750acd"
      },
      "source": [
        "print(data.duplicated().any())"
      ],
      "execution_count": null,
      "outputs": [
        {
          "output_type": "stream",
          "text": [
            "False\n"
          ],
          "name": "stdout"
        }
      ]
    },
    {
      "cell_type": "markdown",
      "metadata": {
        "id": "v2XoqkJzLG4I"
      },
      "source": [
        "0 duplicated values in the dataframe"
      ]
    },
    {
      "cell_type": "code",
      "metadata": {
        "colab": {
          "base_uri": "https://localhost:8080/",
          "height": 315
        },
        "id": "lGb31G-qEYle",
        "outputId": "bfa28876-9a21-4af9-9281-7b1318cb6a0b"
      },
      "source": [
        "#summary of the dataframe\n",
        "data.describe()"
      ],
      "execution_count": null,
      "outputs": [
        {
          "output_type": "execute_result",
          "data": {
            "text/html": [
              "<div>\n",
              "<style scoped>\n",
              "    .dataframe tbody tr th:only-of-type {\n",
              "        vertical-align: middle;\n",
              "    }\n",
              "\n",
              "    .dataframe tbody tr th {\n",
              "        vertical-align: top;\n",
              "    }\n",
              "\n",
              "    .dataframe thead th {\n",
              "        text-align: right;\n",
              "    }\n",
              "</style>\n",
              "<table border=\"1\" class=\"dataframe\">\n",
              "  <thead>\n",
              "    <tr style=\"text-align: right;\">\n",
              "      <th></th>\n",
              "      <th>battery_power</th>\n",
              "      <th>blue</th>\n",
              "      <th>clock_speed</th>\n",
              "      <th>dual_sim</th>\n",
              "      <th>fc</th>\n",
              "      <th>four_g</th>\n",
              "      <th>int_memory</th>\n",
              "      <th>m_dep</th>\n",
              "      <th>mobile_wt</th>\n",
              "      <th>n_cores</th>\n",
              "      <th>pc</th>\n",
              "      <th>px_height</th>\n",
              "      <th>px_width</th>\n",
              "      <th>ram</th>\n",
              "      <th>sc_h</th>\n",
              "      <th>sc_w</th>\n",
              "      <th>talk_time</th>\n",
              "      <th>three_g</th>\n",
              "      <th>touch_screen</th>\n",
              "      <th>wifi</th>\n",
              "      <th>price_range</th>\n",
              "    </tr>\n",
              "  </thead>\n",
              "  <tbody>\n",
              "    <tr>\n",
              "      <th>count</th>\n",
              "      <td>2000.000000</td>\n",
              "      <td>2000.0000</td>\n",
              "      <td>2000.000000</td>\n",
              "      <td>2000.000000</td>\n",
              "      <td>2000.000000</td>\n",
              "      <td>2000.000000</td>\n",
              "      <td>2000.000000</td>\n",
              "      <td>2000.000000</td>\n",
              "      <td>2000.000000</td>\n",
              "      <td>2000.000000</td>\n",
              "      <td>2000.000000</td>\n",
              "      <td>2000.000000</td>\n",
              "      <td>2000.000000</td>\n",
              "      <td>2000.000000</td>\n",
              "      <td>2000.000000</td>\n",
              "      <td>2000.000000</td>\n",
              "      <td>2000.000000</td>\n",
              "      <td>2000.000000</td>\n",
              "      <td>2000.000000</td>\n",
              "      <td>2000.000000</td>\n",
              "      <td>2000.000000</td>\n",
              "    </tr>\n",
              "    <tr>\n",
              "      <th>mean</th>\n",
              "      <td>1238.518500</td>\n",
              "      <td>0.4950</td>\n",
              "      <td>1.522250</td>\n",
              "      <td>0.509500</td>\n",
              "      <td>4.309500</td>\n",
              "      <td>0.521500</td>\n",
              "      <td>32.046500</td>\n",
              "      <td>0.501750</td>\n",
              "      <td>140.249000</td>\n",
              "      <td>4.520500</td>\n",
              "      <td>9.916500</td>\n",
              "      <td>645.108000</td>\n",
              "      <td>1251.515500</td>\n",
              "      <td>2124.213000</td>\n",
              "      <td>12.306500</td>\n",
              "      <td>5.767000</td>\n",
              "      <td>11.011000</td>\n",
              "      <td>0.761500</td>\n",
              "      <td>0.503000</td>\n",
              "      <td>0.507000</td>\n",
              "      <td>1.500000</td>\n",
              "    </tr>\n",
              "    <tr>\n",
              "      <th>std</th>\n",
              "      <td>439.418206</td>\n",
              "      <td>0.5001</td>\n",
              "      <td>0.816004</td>\n",
              "      <td>0.500035</td>\n",
              "      <td>4.341444</td>\n",
              "      <td>0.499662</td>\n",
              "      <td>18.145715</td>\n",
              "      <td>0.288416</td>\n",
              "      <td>35.399655</td>\n",
              "      <td>2.287837</td>\n",
              "      <td>6.064315</td>\n",
              "      <td>443.780811</td>\n",
              "      <td>432.199447</td>\n",
              "      <td>1084.732044</td>\n",
              "      <td>4.213245</td>\n",
              "      <td>4.356398</td>\n",
              "      <td>5.463955</td>\n",
              "      <td>0.426273</td>\n",
              "      <td>0.500116</td>\n",
              "      <td>0.500076</td>\n",
              "      <td>1.118314</td>\n",
              "    </tr>\n",
              "    <tr>\n",
              "      <th>min</th>\n",
              "      <td>501.000000</td>\n",
              "      <td>0.0000</td>\n",
              "      <td>0.500000</td>\n",
              "      <td>0.000000</td>\n",
              "      <td>0.000000</td>\n",
              "      <td>0.000000</td>\n",
              "      <td>2.000000</td>\n",
              "      <td>0.100000</td>\n",
              "      <td>80.000000</td>\n",
              "      <td>1.000000</td>\n",
              "      <td>0.000000</td>\n",
              "      <td>0.000000</td>\n",
              "      <td>500.000000</td>\n",
              "      <td>256.000000</td>\n",
              "      <td>5.000000</td>\n",
              "      <td>0.000000</td>\n",
              "      <td>2.000000</td>\n",
              "      <td>0.000000</td>\n",
              "      <td>0.000000</td>\n",
              "      <td>0.000000</td>\n",
              "      <td>0.000000</td>\n",
              "    </tr>\n",
              "    <tr>\n",
              "      <th>25%</th>\n",
              "      <td>851.750000</td>\n",
              "      <td>0.0000</td>\n",
              "      <td>0.700000</td>\n",
              "      <td>0.000000</td>\n",
              "      <td>1.000000</td>\n",
              "      <td>0.000000</td>\n",
              "      <td>16.000000</td>\n",
              "      <td>0.200000</td>\n",
              "      <td>109.000000</td>\n",
              "      <td>3.000000</td>\n",
              "      <td>5.000000</td>\n",
              "      <td>282.750000</td>\n",
              "      <td>874.750000</td>\n",
              "      <td>1207.500000</td>\n",
              "      <td>9.000000</td>\n",
              "      <td>2.000000</td>\n",
              "      <td>6.000000</td>\n",
              "      <td>1.000000</td>\n",
              "      <td>0.000000</td>\n",
              "      <td>0.000000</td>\n",
              "      <td>0.750000</td>\n",
              "    </tr>\n",
              "    <tr>\n",
              "      <th>50%</th>\n",
              "      <td>1226.000000</td>\n",
              "      <td>0.0000</td>\n",
              "      <td>1.500000</td>\n",
              "      <td>1.000000</td>\n",
              "      <td>3.000000</td>\n",
              "      <td>1.000000</td>\n",
              "      <td>32.000000</td>\n",
              "      <td>0.500000</td>\n",
              "      <td>141.000000</td>\n",
              "      <td>4.000000</td>\n",
              "      <td>10.000000</td>\n",
              "      <td>564.000000</td>\n",
              "      <td>1247.000000</td>\n",
              "      <td>2146.500000</td>\n",
              "      <td>12.000000</td>\n",
              "      <td>5.000000</td>\n",
              "      <td>11.000000</td>\n",
              "      <td>1.000000</td>\n",
              "      <td>1.000000</td>\n",
              "      <td>1.000000</td>\n",
              "      <td>1.500000</td>\n",
              "    </tr>\n",
              "    <tr>\n",
              "      <th>75%</th>\n",
              "      <td>1615.250000</td>\n",
              "      <td>1.0000</td>\n",
              "      <td>2.200000</td>\n",
              "      <td>1.000000</td>\n",
              "      <td>7.000000</td>\n",
              "      <td>1.000000</td>\n",
              "      <td>48.000000</td>\n",
              "      <td>0.800000</td>\n",
              "      <td>170.000000</td>\n",
              "      <td>7.000000</td>\n",
              "      <td>15.000000</td>\n",
              "      <td>947.250000</td>\n",
              "      <td>1633.000000</td>\n",
              "      <td>3064.500000</td>\n",
              "      <td>16.000000</td>\n",
              "      <td>9.000000</td>\n",
              "      <td>16.000000</td>\n",
              "      <td>1.000000</td>\n",
              "      <td>1.000000</td>\n",
              "      <td>1.000000</td>\n",
              "      <td>2.250000</td>\n",
              "    </tr>\n",
              "    <tr>\n",
              "      <th>max</th>\n",
              "      <td>1998.000000</td>\n",
              "      <td>1.0000</td>\n",
              "      <td>3.000000</td>\n",
              "      <td>1.000000</td>\n",
              "      <td>19.000000</td>\n",
              "      <td>1.000000</td>\n",
              "      <td>64.000000</td>\n",
              "      <td>1.000000</td>\n",
              "      <td>200.000000</td>\n",
              "      <td>8.000000</td>\n",
              "      <td>20.000000</td>\n",
              "      <td>1960.000000</td>\n",
              "      <td>1998.000000</td>\n",
              "      <td>3998.000000</td>\n",
              "      <td>19.000000</td>\n",
              "      <td>18.000000</td>\n",
              "      <td>20.000000</td>\n",
              "      <td>1.000000</td>\n",
              "      <td>1.000000</td>\n",
              "      <td>1.000000</td>\n",
              "      <td>3.000000</td>\n",
              "    </tr>\n",
              "  </tbody>\n",
              "</table>\n",
              "</div>"
            ],
            "text/plain": [
              "       battery_power       blue  ...         wifi  price_range\n",
              "count    2000.000000  2000.0000  ...  2000.000000  2000.000000\n",
              "mean     1238.518500     0.4950  ...     0.507000     1.500000\n",
              "std       439.418206     0.5001  ...     0.500076     1.118314\n",
              "min       501.000000     0.0000  ...     0.000000     0.000000\n",
              "25%       851.750000     0.0000  ...     0.000000     0.750000\n",
              "50%      1226.000000     0.0000  ...     1.000000     1.500000\n",
              "75%      1615.250000     1.0000  ...     1.000000     2.250000\n",
              "max      1998.000000     1.0000  ...     1.000000     3.000000\n",
              "\n",
              "[8 rows x 21 columns]"
            ]
          },
          "metadata": {
            "tags": []
          },
          "execution_count": 10
        }
      ]
    },
    {
      "cell_type": "code",
      "metadata": {
        "colab": {
          "base_uri": "https://localhost:8080/"
        },
        "id": "_haOTqEeEzWO",
        "outputId": "233a2904-0f66-4db4-ab62-034c7c393df6"
      },
      "source": [
        "data['price_range'].unique()"
      ],
      "execution_count": null,
      "outputs": [
        {
          "output_type": "execute_result",
          "data": {
            "text/plain": [
              "array([1, 2, 3, 0])"
            ]
          },
          "metadata": {
            "tags": []
          },
          "execution_count": 11
        }
      ]
    },
    {
      "cell_type": "markdown",
      "metadata": {
        "id": "w8pAjF-zJ1J4"
      },
      "source": [
        "We have four price ranges as target values which is multi-class classification problem."
      ]
    },
    {
      "cell_type": "markdown",
      "metadata": {
        "id": "_ku2JzqjE_cL"
      },
      "source": [
        "\n",
        "Let's see our dataset is balanced or imbalanced?"
      ]
    },
    {
      "cell_type": "code",
      "metadata": {
        "colab": {
          "base_uri": "https://localhost:8080/",
          "height": 264
        },
        "id": "Gf8aZL8xE60U",
        "outputId": "c3a34a34-6687-46c5-b6e6-42ad1fef3372"
      },
      "source": [
        "\n",
        "labels = [\"low cost\", \"medium cost\", \"high cost\", \"very high cost\"]\n",
        "values = data['price_range'].value_counts().values\n",
        "colors = ['yellow','turquoise','lightblue', 'pink']\n",
        "fig1, ax1 = plt.subplots()\n",
        "ax1.pie(values, labels=labels, colors=colors, autopct='%1.1f%%', shadow=True, startangle=90)\n",
        "ax1.set_title('balanced or imbalanced?')\n",
        "plt.show()"
      ],
      "execution_count": null,
      "outputs": [
        {
          "output_type": "display_data",
          "data": {
            "image/png": "[encoded data removed]",
            "text/plain": [
              "<Figure size 432x288 with 1 Axes>"
            ]
          },
          "metadata": {
            "tags": []
          }
        }
      ]
    },
    {
      "cell_type": "markdown",
      "metadata": {
        "id": "u3vkuSgmFTor"
      },
      "source": [
        "dataset is balanced"
      ]
    },
    {
      "cell_type": "markdown",
      "metadata": {
        "id": "EKc6RiQ4V6Yq"
      },
      "source": [
        "# Data Visualization: Analyzing the Relationship Between Variables"
      ]
    },
    {
      "cell_type": "markdown",
      "metadata": {
        "id": "a_Wigs8GFbdP"
      },
      "source": [
        "let's see the correlation b/w features and target variable by plotting heatmap:\n"
      ]
    },
    {
      "cell_type": "code",
      "metadata": {
        "colab": {
          "base_uri": "https://localhost:8080/",
          "height": 716
        },
        "id": "3s3p3fHSWMo5",
        "outputId": "fbf4873b-bd8a-400e-87db-6e8ddc365db4"
      },
      "source": [
        "corr = data.corr()\n",
        "\n",
        "np.fill_diagonal(corr.values, 0)\n",
        "\n",
        "corr.replace(0, np.nan, inplace=True)\n",
        "plt.show()\n",
        "corr"
      ],
      "execution_count": null,
      "outputs": [
        {
          "output_type": "execute_result",
          "data": {
            "text/html": [
              "<div>\n",
              "<style scoped>\n",
              "    .dataframe tbody tr th:only-of-type {\n",
              "        vertical-align: middle;\n",
              "    }\n",
              "\n",
              "    .dataframe tbody tr th {\n",
              "        vertical-align: top;\n",
              "    }\n",
              "\n",
              "    .dataframe thead th {\n",
              "        text-align: right;\n",
              "    }\n",
              "</style>\n",
              "<table border=\"1\" class=\"dataframe\">\n",
              "  <thead>\n",
              "    <tr style=\"text-align: right;\">\n",
              "      <th></th>\n",
              "      <th>battery_power</th>\n",
              "      <th>blue</th>\n",
              "      <th>clock_speed</th>\n",
              "      <th>dual_sim</th>\n",
              "      <th>fc</th>\n",
              "      <th>four_g</th>\n",
              "      <th>int_memory</th>\n",
              "      <th>m_dep</th>\n",
              "      <th>mobile_wt</th>\n",
              "      <th>n_cores</th>\n",
              "      <th>pc</th>\n",
              "      <th>px_height</th>\n",
              "      <th>px_width</th>\n",
              "      <th>ram</th>\n",
              "      <th>sc_h</th>\n",
              "      <th>sc_w</th>\n",
              "      <th>talk_time</th>\n",
              "      <th>three_g</th>\n",
              "      <th>touch_screen</th>\n",
              "      <th>wifi</th>\n",
              "      <th>price_range</th>\n",
              "    </tr>\n",
              "  </thead>\n",
              "  <tbody>\n",
              "    <tr>\n",
              "      <th>battery_power</th>\n",
              "      <td>NaN</td>\n",
              "      <td>0.011252</td>\n",
              "      <td>0.011482</td>\n",
              "      <td>-0.041847</td>\n",
              "      <td>0.033334</td>\n",
              "      <td>0.015665</td>\n",
              "      <td>-0.004004</td>\n",
              "      <td>0.034085</td>\n",
              "      <td>0.001844</td>\n",
              "      <td>-0.029727</td>\n",
              "      <td>0.031441</td>\n",
              "      <td>0.014901</td>\n",
              "      <td>-0.008402</td>\n",
              "      <td>-0.000653</td>\n",
              "      <td>-0.029959</td>\n",
              "      <td>-0.021421</td>\n",
              "      <td>0.052510</td>\n",
              "      <td>0.011522</td>\n",
              "      <td>-0.010516</td>\n",
              "      <td>-0.008343</td>\n",
              "      <td>0.200723</td>\n",
              "    </tr>\n",
              "    <tr>\n",
              "      <th>blue</th>\n",
              "      <td>0.011252</td>\n",
              "      <td>NaN</td>\n",
              "      <td>0.021419</td>\n",
              "      <td>0.035198</td>\n",
              "      <td>0.003593</td>\n",
              "      <td>0.013443</td>\n",
              "      <td>0.041177</td>\n",
              "      <td>0.004049</td>\n",
              "      <td>-0.008605</td>\n",
              "      <td>0.036161</td>\n",
              "      <td>-0.009952</td>\n",
              "      <td>-0.006872</td>\n",
              "      <td>-0.041533</td>\n",
              "      <td>0.026351</td>\n",
              "      <td>-0.002952</td>\n",
              "      <td>0.000613</td>\n",
              "      <td>0.013934</td>\n",
              "      <td>-0.030236</td>\n",
              "      <td>0.010061</td>\n",
              "      <td>-0.021863</td>\n",
              "      <td>0.020573</td>\n",
              "    </tr>\n",
              "    <tr>\n",
              "      <th>clock_speed</th>\n",
              "      <td>0.011482</td>\n",
              "      <td>0.021419</td>\n",
              "      <td>NaN</td>\n",
              "      <td>-0.001315</td>\n",
              "      <td>-0.000434</td>\n",
              "      <td>-0.043073</td>\n",
              "      <td>0.006545</td>\n",
              "      <td>-0.014364</td>\n",
              "      <td>0.012350</td>\n",
              "      <td>-0.005724</td>\n",
              "      <td>-0.005245</td>\n",
              "      <td>-0.014523</td>\n",
              "      <td>-0.009476</td>\n",
              "      <td>0.003443</td>\n",
              "      <td>-0.029078</td>\n",
              "      <td>-0.007378</td>\n",
              "      <td>-0.011432</td>\n",
              "      <td>-0.046433</td>\n",
              "      <td>0.019756</td>\n",
              "      <td>-0.024471</td>\n",
              "      <td>-0.006606</td>\n",
              "    </tr>\n",
              "    <tr>\n",
              "      <th>dual_sim</th>\n",
              "      <td>-0.041847</td>\n",
              "      <td>0.035198</td>\n",
              "      <td>-0.001315</td>\n",
              "      <td>NaN</td>\n",
              "      <td>-0.029123</td>\n",
              "      <td>0.003187</td>\n",
              "      <td>-0.015679</td>\n",
              "      <td>-0.022142</td>\n",
              "      <td>-0.008979</td>\n",
              "      <td>-0.024658</td>\n",
              "      <td>-0.017143</td>\n",
              "      <td>-0.020875</td>\n",
              "      <td>0.014291</td>\n",
              "      <td>0.041072</td>\n",
              "      <td>-0.011949</td>\n",
              "      <td>-0.016666</td>\n",
              "      <td>-0.039404</td>\n",
              "      <td>-0.014008</td>\n",
              "      <td>-0.017117</td>\n",
              "      <td>0.022740</td>\n",
              "      <td>0.017444</td>\n",
              "    </tr>\n",
              "    <tr>\n",
              "      <th>fc</th>\n",
              "      <td>0.033334</td>\n",
              "      <td>0.003593</td>\n",
              "      <td>-0.000434</td>\n",
              "      <td>-0.029123</td>\n",
              "      <td>NaN</td>\n",
              "      <td>-0.016560</td>\n",
              "      <td>-0.029133</td>\n",
              "      <td>-0.001791</td>\n",
              "      <td>0.023618</td>\n",
              "      <td>-0.013356</td>\n",
              "      <td>0.644595</td>\n",
              "      <td>-0.009990</td>\n",
              "      <td>-0.005176</td>\n",
              "      <td>0.015099</td>\n",
              "      <td>-0.011014</td>\n",
              "      <td>-0.012373</td>\n",
              "      <td>-0.006829</td>\n",
              "      <td>0.001793</td>\n",
              "      <td>-0.014828</td>\n",
              "      <td>0.020085</td>\n",
              "      <td>0.021998</td>\n",
              "    </tr>\n",
              "    <tr>\n",
              "      <th>four_g</th>\n",
              "      <td>0.015665</td>\n",
              "      <td>0.013443</td>\n",
              "      <td>-0.043073</td>\n",
              "      <td>0.003187</td>\n",
              "      <td>-0.016560</td>\n",
              "      <td>NaN</td>\n",
              "      <td>0.008690</td>\n",
              "      <td>-0.001823</td>\n",
              "      <td>-0.016537</td>\n",
              "      <td>-0.029706</td>\n",
              "      <td>-0.005598</td>\n",
              "      <td>-0.019236</td>\n",
              "      <td>0.007448</td>\n",
              "      <td>0.007313</td>\n",
              "      <td>0.027166</td>\n",
              "      <td>0.037005</td>\n",
              "      <td>-0.046628</td>\n",
              "      <td>0.584246</td>\n",
              "      <td>0.016758</td>\n",
              "      <td>-0.017620</td>\n",
              "      <td>0.014772</td>\n",
              "    </tr>\n",
              "    <tr>\n",
              "      <th>int_memory</th>\n",
              "      <td>-0.004004</td>\n",
              "      <td>0.041177</td>\n",
              "      <td>0.006545</td>\n",
              "      <td>-0.015679</td>\n",
              "      <td>-0.029133</td>\n",
              "      <td>0.008690</td>\n",
              "      <td>NaN</td>\n",
              "      <td>0.006886</td>\n",
              "      <td>-0.034214</td>\n",
              "      <td>-0.028310</td>\n",
              "      <td>-0.033273</td>\n",
              "      <td>0.010441</td>\n",
              "      <td>-0.008335</td>\n",
              "      <td>0.032813</td>\n",
              "      <td>0.037771</td>\n",
              "      <td>0.011731</td>\n",
              "      <td>-0.002790</td>\n",
              "      <td>-0.009366</td>\n",
              "      <td>-0.026999</td>\n",
              "      <td>0.006993</td>\n",
              "      <td>0.044435</td>\n",
              "    </tr>\n",
              "    <tr>\n",
              "      <th>m_dep</th>\n",
              "      <td>0.034085</td>\n",
              "      <td>0.004049</td>\n",
              "      <td>-0.014364</td>\n",
              "      <td>-0.022142</td>\n",
              "      <td>-0.001791</td>\n",
              "      <td>-0.001823</td>\n",
              "      <td>0.006886</td>\n",
              "      <td>NaN</td>\n",
              "      <td>0.021756</td>\n",
              "      <td>-0.003504</td>\n",
              "      <td>0.026282</td>\n",
              "      <td>0.025263</td>\n",
              "      <td>0.023566</td>\n",
              "      <td>-0.009434</td>\n",
              "      <td>-0.025348</td>\n",
              "      <td>-0.018388</td>\n",
              "      <td>0.017003</td>\n",
              "      <td>-0.012065</td>\n",
              "      <td>-0.002638</td>\n",
              "      <td>-0.028353</td>\n",
              "      <td>0.000853</td>\n",
              "    </tr>\n",
              "    <tr>\n",
              "      <th>mobile_wt</th>\n",
              "      <td>0.001844</td>\n",
              "      <td>-0.008605</td>\n",
              "      <td>0.012350</td>\n",
              "      <td>-0.008979</td>\n",
              "      <td>0.023618</td>\n",
              "      <td>-0.016537</td>\n",
              "      <td>-0.034214</td>\n",
              "      <td>0.021756</td>\n",
              "      <td>NaN</td>\n",
              "      <td>-0.018989</td>\n",
              "      <td>0.018844</td>\n",
              "      <td>0.000939</td>\n",
              "      <td>0.000090</td>\n",
              "      <td>-0.002581</td>\n",
              "      <td>-0.033855</td>\n",
              "      <td>-0.020761</td>\n",
              "      <td>0.006209</td>\n",
              "      <td>0.001551</td>\n",
              "      <td>-0.014368</td>\n",
              "      <td>-0.000409</td>\n",
              "      <td>-0.030302</td>\n",
              "    </tr>\n",
              "    <tr>\n",
              "      <th>n_cores</th>\n",
              "      <td>-0.029727</td>\n",
              "      <td>0.036161</td>\n",
              "      <td>-0.005724</td>\n",
              "      <td>-0.024658</td>\n",
              "      <td>-0.013356</td>\n",
              "      <td>-0.029706</td>\n",
              "      <td>-0.028310</td>\n",
              "      <td>-0.003504</td>\n",
              "      <td>-0.018989</td>\n",
              "      <td>NaN</td>\n",
              "      <td>-0.001193</td>\n",
              "      <td>-0.006872</td>\n",
              "      <td>0.024480</td>\n",
              "      <td>0.004868</td>\n",
              "      <td>-0.000315</td>\n",
              "      <td>0.025826</td>\n",
              "      <td>0.013148</td>\n",
              "      <td>-0.014733</td>\n",
              "      <td>0.023774</td>\n",
              "      <td>-0.009964</td>\n",
              "      <td>0.004399</td>\n",
              "    </tr>\n",
              "    <tr>\n",
              "      <th>pc</th>\n",
              "      <td>0.031441</td>\n",
              "      <td>-0.009952</td>\n",
              "      <td>-0.005245</td>\n",
              "      <td>-0.017143</td>\n",
              "      <td>0.644595</td>\n",
              "      <td>-0.005598</td>\n",
              "      <td>-0.033273</td>\n",
              "      <td>0.026282</td>\n",
              "      <td>0.018844</td>\n",
              "      <td>-0.001193</td>\n",
              "      <td>NaN</td>\n",
              "      <td>-0.018465</td>\n",
              "      <td>0.004196</td>\n",
              "      <td>0.028984</td>\n",
              "      <td>0.004938</td>\n",
              "      <td>-0.023819</td>\n",
              "      <td>0.014657</td>\n",
              "      <td>-0.001322</td>\n",
              "      <td>-0.008742</td>\n",
              "      <td>0.005389</td>\n",
              "      <td>0.033599</td>\n",
              "    </tr>\n",
              "    <tr>\n",
              "      <th>px_height</th>\n",
              "      <td>0.014901</td>\n",
              "      <td>-0.006872</td>\n",
              "      <td>-0.014523</td>\n",
              "      <td>-0.020875</td>\n",
              "      <td>-0.009990</td>\n",
              "      <td>-0.019236</td>\n",
              "      <td>0.010441</td>\n",
              "      <td>0.025263</td>\n",
              "      <td>0.000939</td>\n",
              "      <td>-0.006872</td>\n",
              "      <td>-0.018465</td>\n",
              "      <td>NaN</td>\n",
              "      <td>0.510664</td>\n",
              "      <td>-0.020352</td>\n",
              "      <td>0.059615</td>\n",
              "      <td>0.043038</td>\n",
              "      <td>-0.010645</td>\n",
              "      <td>-0.031174</td>\n",
              "      <td>0.021891</td>\n",
              "      <td>0.051824</td>\n",
              "      <td>0.148858</td>\n",
              "    </tr>\n",
              "    <tr>\n",
              "      <th>px_width</th>\n",
              "      <td>-0.008402</td>\n",
              "      <td>-0.041533</td>\n",
              "      <td>-0.009476</td>\n",
              "      <td>0.014291</td>\n",
              "      <td>-0.005176</td>\n",
              "      <td>0.007448</td>\n",
              "      <td>-0.008335</td>\n",
              "      <td>0.023566</td>\n",
              "      <td>0.000090</td>\n",
              "      <td>0.024480</td>\n",
              "      <td>0.004196</td>\n",
              "      <td>0.510664</td>\n",
              "      <td>NaN</td>\n",
              "      <td>0.004105</td>\n",
              "      <td>0.021599</td>\n",
              "      <td>0.034699</td>\n",
              "      <td>0.006720</td>\n",
              "      <td>0.000350</td>\n",
              "      <td>-0.001628</td>\n",
              "      <td>0.030319</td>\n",
              "      <td>0.165818</td>\n",
              "    </tr>\n",
              "    <tr>\n",
              "      <th>ram</th>\n",
              "      <td>-0.000653</td>\n",
              "      <td>0.026351</td>\n",
              "      <td>0.003443</td>\n",
              "      <td>0.041072</td>\n",
              "      <td>0.015099</td>\n",
              "      <td>0.007313</td>\n",
              "      <td>0.032813</td>\n",
              "      <td>-0.009434</td>\n",
              "      <td>-0.002581</td>\n",
              "      <td>0.004868</td>\n",
              "      <td>0.028984</td>\n",
              "      <td>-0.020352</td>\n",
              "      <td>0.004105</td>\n",
              "      <td>NaN</td>\n",
              "      <td>0.015996</td>\n",
              "      <td>0.035576</td>\n",
              "      <td>0.010820</td>\n",
              "      <td>0.015795</td>\n",
              "      <td>-0.030455</td>\n",
              "      <td>0.022669</td>\n",
              "      <td>0.917046</td>\n",
              "    </tr>\n",
              "    <tr>\n",
              "      <th>sc_h</th>\n",
              "      <td>-0.029959</td>\n",
              "      <td>-0.002952</td>\n",
              "      <td>-0.029078</td>\n",
              "      <td>-0.011949</td>\n",
              "      <td>-0.011014</td>\n",
              "      <td>0.027166</td>\n",
              "      <td>0.037771</td>\n",
              "      <td>-0.025348</td>\n",
              "      <td>-0.033855</td>\n",
              "      <td>-0.000315</td>\n",
              "      <td>0.004938</td>\n",
              "      <td>0.059615</td>\n",
              "      <td>0.021599</td>\n",
              "      <td>0.015996</td>\n",
              "      <td>NaN</td>\n",
              "      <td>0.506144</td>\n",
              "      <td>-0.017335</td>\n",
              "      <td>0.012033</td>\n",
              "      <td>-0.020023</td>\n",
              "      <td>0.025929</td>\n",
              "      <td>0.022986</td>\n",
              "    </tr>\n",
              "    <tr>\n",
              "      <th>sc_w</th>\n",
              "      <td>-0.021421</td>\n",
              "      <td>0.000613</td>\n",
              "      <td>-0.007378</td>\n",
              "      <td>-0.016666</td>\n",
              "      <td>-0.012373</td>\n",
              "      <td>0.037005</td>\n",
              "      <td>0.011731</td>\n",
              "      <td>-0.018388</td>\n",
              "      <td>-0.020761</td>\n",
              "      <td>0.025826</td>\n",
              "      <td>-0.023819</td>\n",
              "      <td>0.043038</td>\n",
              "      <td>0.034699</td>\n",
              "      <td>0.035576</td>\n",
              "      <td>0.506144</td>\n",
              "      <td>NaN</td>\n",
              "      <td>-0.022821</td>\n",
              "      <td>0.030941</td>\n",
              "      <td>0.012720</td>\n",
              "      <td>0.035423</td>\n",
              "      <td>0.038711</td>\n",
              "    </tr>\n",
              "    <tr>\n",
              "      <th>talk_time</th>\n",
              "      <td>0.052510</td>\n",
              "      <td>0.013934</td>\n",
              "      <td>-0.011432</td>\n",
              "      <td>-0.039404</td>\n",
              "      <td>-0.006829</td>\n",
              "      <td>-0.046628</td>\n",
              "      <td>-0.002790</td>\n",
              "      <td>0.017003</td>\n",
              "      <td>0.006209</td>\n",
              "      <td>0.013148</td>\n",
              "      <td>0.014657</td>\n",
              "      <td>-0.010645</td>\n",
              "      <td>0.006720</td>\n",
              "      <td>0.010820</td>\n",
              "      <td>-0.017335</td>\n",
              "      <td>-0.022821</td>\n",
              "      <td>NaN</td>\n",
              "      <td>-0.042688</td>\n",
              "      <td>0.017196</td>\n",
              "      <td>-0.029504</td>\n",
              "      <td>0.021859</td>\n",
              "    </tr>\n",
              "    <tr>\n",
              "      <th>three_g</th>\n",
              "      <td>0.011522</td>\n",
              "      <td>-0.030236</td>\n",
              "      <td>-0.046433</td>\n",
              "      <td>-0.014008</td>\n",
              "      <td>0.001793</td>\n",
              "      <td>0.584246</td>\n",
              "      <td>-0.009366</td>\n",
              "      <td>-0.012065</td>\n",
              "      <td>0.001551</td>\n",
              "      <td>-0.014733</td>\n",
              "      <td>-0.001322</td>\n",
              "      <td>-0.031174</td>\n",
              "      <td>0.000350</td>\n",
              "      <td>0.015795</td>\n",
              "      <td>0.012033</td>\n",
              "      <td>0.030941</td>\n",
              "      <td>-0.042688</td>\n",
              "      <td>NaN</td>\n",
              "      <td>0.013917</td>\n",
              "      <td>0.004316</td>\n",
              "      <td>0.023611</td>\n",
              "    </tr>\n",
              "    <tr>\n",
              "      <th>touch_screen</th>\n",
              "      <td>-0.010516</td>\n",
              "      <td>0.010061</td>\n",
              "      <td>0.019756</td>\n",
              "      <td>-0.017117</td>\n",
              "      <td>-0.014828</td>\n",
              "      <td>0.016758</td>\n",
              "      <td>-0.026999</td>\n",
              "      <td>-0.002638</td>\n",
              "      <td>-0.014368</td>\n",
              "      <td>0.023774</td>\n",
              "      <td>-0.008742</td>\n",
              "      <td>0.021891</td>\n",
              "      <td>-0.001628</td>\n",
              "      <td>-0.030455</td>\n",
              "      <td>-0.020023</td>\n",
              "      <td>0.012720</td>\n",
              "      <td>0.017196</td>\n",
              "      <td>0.013917</td>\n",
              "      <td>NaN</td>\n",
              "      <td>0.011917</td>\n",
              "      <td>-0.030411</td>\n",
              "    </tr>\n",
              "    <tr>\n",
              "      <th>wifi</th>\n",
              "      <td>-0.008343</td>\n",
              "      <td>-0.021863</td>\n",
              "      <td>-0.024471</td>\n",
              "      <td>0.022740</td>\n",
              "      <td>0.020085</td>\n",
              "      <td>-0.017620</td>\n",
              "      <td>0.006993</td>\n",
              "      <td>-0.028353</td>\n",
              "      <td>-0.000409</td>\n",
              "      <td>-0.009964</td>\n",
              "      <td>0.005389</td>\n",
              "      <td>0.051824</td>\n",
              "      <td>0.030319</td>\n",
              "      <td>0.022669</td>\n",
              "      <td>0.025929</td>\n",
              "      <td>0.035423</td>\n",
              "      <td>-0.029504</td>\n",
              "      <td>0.004316</td>\n",
              "      <td>0.011917</td>\n",
              "      <td>NaN</td>\n",
              "      <td>0.018785</td>\n",
              "    </tr>\n",
              "    <tr>\n",
              "      <th>price_range</th>\n",
              "      <td>0.200723</td>\n",
              "      <td>0.020573</td>\n",
              "      <td>-0.006606</td>\n",
              "      <td>0.017444</td>\n",
              "      <td>0.021998</td>\n",
              "      <td>0.014772</td>\n",
              "      <td>0.044435</td>\n",
              "      <td>0.000853</td>\n",
              "      <td>-0.030302</td>\n",
              "      <td>0.004399</td>\n",
              "      <td>0.033599</td>\n",
              "      <td>0.148858</td>\n",
              "      <td>0.165818</td>\n",
              "      <td>0.917046</td>\n",
              "      <td>0.022986</td>\n",
              "      <td>0.038711</td>\n",
              "      <td>0.021859</td>\n",
              "      <td>0.023611</td>\n",
              "      <td>-0.030411</td>\n",
              "      <td>0.018785</td>\n",
              "      <td>NaN</td>\n",
              "    </tr>\n",
              "  </tbody>\n",
              "</table>\n",
              "</div>"
            ],
            "text/plain": [
              "               battery_power      blue  ...      wifi  price_range\n",
              "battery_power            NaN  0.011252  ... -0.008343     0.200723\n",
              "blue                0.011252       NaN  ... -0.021863     0.020573\n",
              "clock_speed         0.011482  0.021419  ... -0.024471    -0.006606\n",
              "dual_sim           -0.041847  0.035198  ...  0.022740     0.017444\n",
              "fc                  0.033334  0.003593  ...  0.020085     0.021998\n",
              "four_g              0.015665  0.013443  ... -0.017620     0.014772\n",
              "int_memory         -0.004004  0.041177  ...  0.006993     0.044435\n",
              "m_dep               0.034085  0.004049  ... -0.028353     0.000853\n",
              "mobile_wt           0.001844 -0.008605  ... -0.000409    -0.030302\n",
              "n_cores            -0.029727  0.036161  ... -0.009964     0.004399\n",
              "pc                  0.031441 -0.009952  ...  0.005389     0.033599\n",
              "px_height           0.014901 -0.006872  ...  0.051824     0.148858\n",
              "px_width           -0.008402 -0.041533  ...  0.030319     0.165818\n",
              "ram                -0.000653  0.026351  ...  0.022669     0.917046\n",
              "sc_h               -0.029959 -0.002952  ...  0.025929     0.022986\n",
              "sc_w               -0.021421  0.000613  ...  0.035423     0.038711\n",
              "talk_time           0.052510  0.013934  ... -0.029504     0.021859\n",
              "three_g             0.011522 -0.030236  ...  0.004316     0.023611\n",
              "touch_screen       -0.010516  0.010061  ...  0.011917    -0.030411\n",
              "wifi               -0.008343 -0.021863  ...       NaN     0.018785\n",
              "price_range         0.200723  0.020573  ...  0.018785          NaN\n",
              "\n",
              "[21 rows x 21 columns]"
            ]
          },
          "metadata": {
            "tags": []
          },
          "execution_count": 19
        }
      ]
    },
    {
      "cell_type": "code",
      "metadata": {
        "colab": {
          "base_uri": "https://localhost:8080/",
          "height": 670
        },
        "id": "pNw4E9hfVzeo",
        "outputId": "e2d69af3-699f-4235-f714-3a52e9f93a11"
      },
      "source": [
        "plt.figure(figsize=(20,10))\n",
        "sns.heatmap(corr, annot=True, cmap='Blues')"
      ],
      "execution_count": null,
      "outputs": [
        {
          "output_type": "execute_result",
          "data": {
            "text/plain": [
              "<matplotlib.axes._subplots.AxesSubplot at 0x7fda6b951050>"
            ]
          },
          "metadata": {
            "tags": []
          },
          "execution_count": 20
        },
        {
          "output_type": "display_data",
          "data": {
            "image/png": "[encoded data removed]",
            "text/plain": [
              "<Figure size 1440x720 with 2 Axes>"
            ]
          },
          "metadata": {
            "tags": [],
            "needs_background": "light"
          }
        }
      ]
    },
    {
      "cell_type": "markdown",
      "metadata": {
        "id": "QusPEmLSWhh5"
      },
      "source": [
        "Display highest correlations between all of our variables"
      ]
    },
    {
      "cell_type": "code",
      "metadata": {
        "colab": {
          "base_uri": "https://localhost:8080/"
        },
        "id": "zsc62eMMWjMQ",
        "outputId": "beffec2f-b0c4-492e-ee81-4a0c9753c573"
      },
      "source": [
        "corr.unstack().sort_values(kind='quicksort', na_position='first').drop_duplicates(keep='last')"
      ],
      "execution_count": null,
      "outputs": [
        {
          "output_type": "execute_result",
          "data": {
            "text/plain": [
              "price_range  price_range         NaN\n",
              "talk_time    four_g        -0.046628\n",
              "three_g      clock_speed   -0.046433\n",
              "clock_speed  four_g        -0.043073\n",
              "talk_time    three_g       -0.042688\n",
              "                              ...   \n",
              "sc_w         sc_h           0.506144\n",
              "px_width     px_height      0.510664\n",
              "three_g      four_g         0.584246\n",
              "pc           fc             0.644595\n",
              "price_range  ram            0.917046\n",
              "Length: 211, dtype: float64"
            ]
          },
          "metadata": {
            "tags": []
          },
          "execution_count": 21
        }
      ]
    },
    {
      "cell_type": "markdown",
      "metadata": {
        "id": "QPKdDRL3GVs0"
      },
      "source": [
        "\n",
        "We see from the heatmap;\n",
        "\n",
        "1. The most influential variable is ram.\n",
        "\n",
        "2. Most of the variables have very little correlation to price range.\n",
        "\n",
        "3. Primary camera mega pixels and front Camera mega pixels have correlation but they do not effect prige range.\n",
        "\n",
        "4. 3G and 4G is somewhat correlated.\n",
        "\n",
        "There is no highly correlated inputs in our dataset, so there is no multicollinearity problem."
      ]
    },
    {
      "cell_type": "markdown",
      "metadata": {
        "id": "LYsNyXpMW7iI"
      },
      "source": [
        "\n",
        "Display highest correlations between price_range and the other features in our dataset"
      ]
    },
    {
      "cell_type": "code",
      "metadata": {
        "colab": {
          "base_uri": "https://localhost:8080/"
        },
        "id": "LcVdBglhW98p",
        "outputId": "92b546fd-f2e1-46f2-c8c3-c686f7a5a95f"
      },
      "source": [
        "corr.abs()['price_range'].sort_values(ascending=False)"
      ],
      "execution_count": null,
      "outputs": [
        {
          "output_type": "execute_result",
          "data": {
            "text/plain": [
              "ram              0.917046\n",
              "battery_power    0.200723\n",
              "px_width         0.165818\n",
              "px_height        0.148858\n",
              "int_memory       0.044435\n",
              "sc_w             0.038711\n",
              "pc               0.033599\n",
              "touch_screen     0.030411\n",
              "mobile_wt        0.030302\n",
              "three_g          0.023611\n",
              "sc_h             0.022986\n",
              "fc               0.021998\n",
              "talk_time        0.021859\n",
              "blue             0.020573\n",
              "wifi             0.018785\n",
              "dual_sim         0.017444\n",
              "four_g           0.014772\n",
              "clock_speed      0.006606\n",
              "n_cores          0.004399\n",
              "m_dep            0.000853\n",
              "price_range           NaN\n",
              "Name: price_range, dtype: float64"
            ]
          },
          "metadata": {
            "tags": []
          },
          "execution_count": 23
        }
      ]
    },
    {
      "cell_type": "markdown",
      "metadata": {
        "id": "ayjQ09eWZpKk"
      },
      "source": [
        "The highest correlations to our target variable (price_range) are:\n",
        "\n",
        "ram\n",
        "\n",
        "battery_power\n",
        "\n",
        "px_width\n",
        "\n",
        "px_height"
      ]
    },
    {
      "cell_type": "markdown",
      "metadata": {
        "id": "Q9gymHJwWyt9"
      },
      "source": [
        "Very high correlation between \"price_range\" and \"ram\" -- this means that we should use the ram variable in predicting the price range of a mobile phone."
      ]
    },
    {
      "cell_type": "markdown",
      "metadata": {
        "id": "eE6BpE7PahEr"
      },
      "source": [
        "**Key Variables Visualizations**"
      ]
    },
    {
      "cell_type": "code",
      "metadata": {
        "id": "qcmEurVbZTph",
        "colab": {
          "base_uri": "https://localhost:8080/",
          "height": 386
        },
        "outputId": "aa784d2a-57b0-405d-9695-ebf31ae3b2bd"
      },
      "source": [
        "sns.displot(data, x='ram')"
      ],
      "execution_count": null,
      "outputs": [
        {
          "output_type": "execute_result",
          "data": {
            "text/plain": [
              "<seaborn.axisgrid.FacetGrid at 0x7fda69efa890>"
            ]
          },
          "metadata": {
            "tags": []
          },
          "execution_count": 26
        },
        {
          "output_type": "display_data",
          "data": {
            "image/png": "[encoded data removed]",
            "text/plain": [
              "<Figure size 360x360 with 1 Axes>"
            ]
          },
          "metadata": {
            "tags": [],
            "needs_background": "light"
          }
        }
      ]
    },
    {
      "cell_type": "code",
      "metadata": {
        "colab": {
          "base_uri": "https://localhost:8080/",
          "height": 383
        },
        "id": "gmLZp_cca9q-",
        "outputId": "220cfcfc-1b98-4124-c8e4-af1802fc5979"
      },
      "source": [
        "sns.lmplot(x='ram', y='price_range', data=data, line_kws={'color': 'purple'})\n",
        "plt.yticks([0, 1, 2, 3])\n",
        "plt.xlabel('Ram')\n",
        "plt.ylabel('Price Range')\n",
        "plt.show()"
      ],
      "execution_count": null,
      "outputs": [
        {
          "output_type": "display_data",
          "data": {
            "image/png": "[encoded data removed]",
            "text/plain": [
              "<Figure size 360x360 with 1 Axes>"
            ]
          },
          "metadata": {
            "tags": [],
            "needs_background": "light"
          }
        }
      ]
    },
    {
      "cell_type": "markdown",
      "metadata": {
        "id": "vPM8UJpAbG-e"
      },
      "source": [
        "The plot aboves shows the high correlation between ram and price range. It shows the general pattern: as ram increases, mobile's price increases"
      ]
    },
    {
      "cell_type": "code",
      "metadata": {
        "colab": {
          "base_uri": "https://localhost:8080/",
          "height": 295
        },
        "id": "6kLEqGazbjxY",
        "outputId": "794079a2-1207-4e48-ca41-758bb3bd76f0"
      },
      "source": [
        "sns.boxplot(x='price_range', y='battery_power', data=data)\n",
        "plt.xlabel('Price Range')\n",
        "plt.ylabel('Battery Power')\n",
        "plt.title('Battery Power\\'s correlation to Price Range', weight='bold')\n",
        "plt.show()"
      ],
      "execution_count": null,
      "outputs": [
        {
          "output_type": "display_data",
          "data": {
            "image/png": "[encoded data removed]",
            "text/plain": [
              "<Figure size 432x288 with 1 Axes>"
            ]
          },
          "metadata": {
            "tags": [],
            "needs_background": "light"
          }
        }
      ]
    },
    {
      "cell_type": "code",
      "metadata": {
        "colab": {
          "base_uri": "https://localhost:8080/",
          "height": 264
        },
        "id": "Zu61L35PbTYS",
        "outputId": "616ac1ec-af84-4b95-f4d9-7b0c62cf396d"
      },
      "source": [
        "four_g = data['four_g'].value_counts()\n",
        "plt.title('Percentage of Mobiles with 4G', weight='bold')\n",
        "labels_4g = ['4G', 'No 4G']\n",
        "four_g.plot.pie(autopct=\"%.1f%%\", labels=labels_4g)\n",
        "plt.show()"
      ],
      "execution_count": null,
      "outputs": [
        {
          "output_type": "display_data",
          "data": {
            "image/png": "[encoded data removed]",
            "text/plain": [
              "<Figure size 432x288 with 1 Axes>"
            ]
          },
          "metadata": {
            "tags": []
          }
        }
      ]
    },
    {
      "cell_type": "code",
      "metadata": {
        "colab": {
          "base_uri": "https://localhost:8080/",
          "height": 328
        },
        "id": "6ADYluDsbbR6",
        "outputId": "0489a562-db99-4007-f505-de380f82419f"
      },
      "source": [
        "n_cores = data['n_cores'].value_counts()\n",
        "plt.title('Number of cores of processor in mobile phones\\n\\n', weight='bold')\n",
        "n_cores.plot.pie(autopct=\"%.1f%%\", radius=1.5)\n",
        "plt.show()"
      ],
      "execution_count": null,
      "outputs": [
        {
          "output_type": "display_data",
          "data": {
            "image/png": "[encoded data removed]",
            "text/plain": [
              "<Figure size 432x288 with 1 Axes>"
            ]
          },
          "metadata": {
            "tags": []
          }
        }
      ]
    },
    {
      "cell_type": "markdown",
      "metadata": {
        "id": "FLXheVpwbrln"
      },
      "source": [
        "using plotly to visualize the 3 most highly correlated variables to price_range"
      ]
    },
    {
      "cell_type": "code",
      "metadata": {
        "colab": {
          "base_uri": "https://localhost:8080/",
          "height": 542
        },
        "id": "0CTwk44ybnUP",
        "outputId": "acfb9f77-615f-41ca-bc49-f6593b8a168a"
      },
      "source": [
        "import plotly.express as px\n",
        "fig = px.scatter_3d(data.head(1000), x='ram', y='battery_power', z='px_width', color='price_range')\n",
        "fig.show()"
      ],
      "execution_count": null,
      "outputs": [
        {
          "output_type": "display_data",
          "data": {
            "text/html": [
              "<html>\n",
              "<head><meta charset=\"utf-8\" /></head>\n",
              "<body>\n",
              "    <div>\n",
              "            <script src=\"https://cdnjs.cloudflare.com/ajax/libs/mathjax/2.7.5/MathJax.js?config=TeX-AMS-MML_SVG\"></script><script type=\"text/javascript\">if (window.MathJax) {MathJax.Hub.Config({SVG: {font: \"STIX-Web\"}});}</script>\n",
              "                <script type=\"text/javascript\">window.PlotlyConfig = {MathJaxConfig: 'local'};</script>\n",
              "        <script src=\"https://cdn.plot.ly/plotly-latest.min.js\"></script>    \n",
              "            <div id=\"111fdc00-e54c-45e6-a9b4-8feaadb92464\" class=\"plotly-graph-div\" style=\"height:525px; width:100%;\"></div>\n",
              "            <script type=\"text/javascript\">\n",
              "                \n",
              "                    window.PLOTLYENV=window.PLOTLYENV || {};\n",
              "                    \n",
              "                if (document.getElementById(\"111fdc00-e54c-45e6-a9b4-8feaadb92464\")) {\n",
              "                    Plotly.newPlot(\n",
              "                        '111fdc00-e54c-45e6-a9b4-8feaadb92464',\n",
              "                        [{\"hoverlabel\": {\"namelength\": 0}, \"hovertemplate\": \"ram=%{x}<br>battery_power=%{y}<br>px_width=%{z}<br>price_range=%{marker.color}\", \"legendgroup\": \"\", \"marker\": {\"color\": [1, 2, 2, 2, 1, 1, 3, 0, 0, 0, 3, 3, 1, 2, 0, 0, 3, 3, 1, 1, 3, 3, 1, 0, 1, 2, 3, 3, 2, 0, 3, 0, 1, 3, 0, 1, 1, 3, 2, 2, 2, 3, 1, 1, 0, 1, 3, 1, 0, 3, 2, 2, 3, 1, 2, 2, 0, 3, 1, 2, 1, 0, 0, 2, 2, 3, 3, 3, 0, 3, 3, 2, 0, 3, 0, 1, 0, 0, 3, 1, 3, 2, 3, 1, 1, 1, 0, 3, 2, 2, 3, 2, 0, 0, 1, 3, 0, 2, 0, 1, 3, 1, 1, 0, 0, 1, 3, 3, 3, 3, 1, 1, 0, 2, 3, 3, 2, 1, 0, 1, 2, 3, 3, 3, 2, 3, 2, 1, 3, 0, 3, 1, 2, 1, 2, 2, 1, 3, 0, 0, 2, 0, 3, 2, 0, 3, 1, 3, 2, 2, 1, 3, 1, 2, 0, 1, 0, 0, 3, 1, 2, 2, 0, 0, 2, 3, 1, 2, 3, 1, 3, 1, 2, 2, 3, 2, 0, 3, 2, 1, 0, 0, 2, 3, 3, 0, 2, 3, 1, 3, 1, 2, 3, 3, 2, 2, 2, 3, 1, 1, 0, 1, 0, 2, 2, 2, 2, 1, 3, 3, 2, 2, 0, 2, 0, 3, 0, 1, 1, 3, 0, 0, 3, 2, 3, 3, 3, 2, 2, 3, 3, 3, 0, 1, 2, 0, 1, 3, 1, 0, 2, 2, 3, 2, 3, 3, 0, 1, 1, 0, 2, 2, 1, 0, 0, 2, 0, 1, 0, 3, 1, 1, 0, 0, 3, 1, 3, 1, 2, 1, 0, 0, 3, 1, 2, 2, 3, 1, 0, 0, 3, 3, 1, 1, 2, 1, 3, 3, 1, 1, 3, 3, 2, 3, 0, 1, 3, 1, 0, 1, 3, 0, 0, 3, 0, 1, 1, 2, 0, 2, 3, 2, 3, 0, 2, 3, 1, 0, 0, 1, 0, 3, 3, 0, 0, 0, 2, 1, 2, 1, 1, 1, 1, 1, 2, 2, 3, 0, 2, 2, 2, 1, 2, 3, 0, 1, 2, 2, 2, 2, 1, 3, 0, 2, 2, 1, 2, 0, 0, 3, 1, 0, 3, 2, 0, 0, 2, 3, 2, 1, 3, 1, 3, 0, 3, 2, 0, 1, 0, 3, 1, 2, 2, 2, 2, 3, 3, 1, 2, 3, 3, 1, 3, 3, 1, 3, 3, 0, 1, 3, 2, 3, 3, 2, 2, 3, 3, 0, 2, 2, 0, 3, 1, 2, 3, 2, 1, 1, 1, 0, 1, 2, 2, 0, 2, 2, 0, 3, 1, 1, 3, 1, 3, 1, 0, 0, 3, 1, 3, 0, 0, 1, 3, 1, 0, 0, 2, 2, 2, 1, 1, 1, 3, 0, 3, 2, 1, 3, 1, 0, 2, 2, 1, 0, 0, 3, 3, 0, 0, 1, 3, 3, 1, 0, 2, 2, 3, 0, 3, 3, 0, 3, 0, 3, 1, 0, 2, 2, 1, 2, 0, 3, 2, 0, 1, 2, 3, 1, 2, 3, 0, 3, 1, 0, 0, 1, 2, 2, 2, 2, 3, 3, 0, 1, 1, 2, 1, 3, 3, 3, 3, 1, 3, 3, 3, 3, 2, 3, 2, 2, 0, 0, 3, 1, 2, 2, 0, 2, 2, 1, 0, 3, 1, 1, 1, 1, 1, 2, 2, 1, 3, 1, 0, 1, 0, 0, 2, 2, 2, 0, 3, 1, 2, 1, 2, 0, 0, 1, 3, 3, 3, 3, 3, 3, 0, 2, 2, 0, 0, 3, 3, 3, 0, 0, 3, 0, 0, 1, 2, 0, 2, 3, 1, 3, 2, 0, 2, 2, 0, 0, 1, 3, 0, 1, 1, 2, 2, 0, 2, 2, 0, 1, 3, 0, 2, 2, 3, 1, 3, 2, 2, 1, 2, 2, 1, 1, 0, 1, 0, 1, 0, 3, 1, 1, 3, 1, 3, 2, 1, 1, 0, 2, 0, 2, 0, 2, 0, 1, 3, 1, 2, 2, 0, 1, 0, 3, 2, 1, 3, 2, 0, 0, 1, 2, 0, 0, 0, 2, 3, 1, 2, 1, 0, 0, 0, 2, 3, 2, 3, 0, 3, 2, 1, 2, 1, 0, 2, 0, 0, 1, 3, 0, 3, 1, 1, 1, 3, 2, 2, 0, 0, 3, 0, 3, 3, 2, 3, 3, 3, 0, 2, 1, 2, 0, 3, 1, 0, 1, 3, 1, 3, 3, 1, 0, 1, 1, 2, 1, 3, 3, 0, 2, 0, 3, 2, 0, 0, 2, 1, 2, 3, 3, 2, 1, 2, 2, 3, 1, 2, 3, 3, 1, 1, 2, 1, 2, 0, 2, 0, 3, 0, 0, 0, 3, 3, 0, 2, 2, 3, 1, 3, 0, 1, 2, 0, 0, 0, 3, 2, 0, 2, 2, 1, 0, 2, 0, 3, 3, 2, 3, 0, 3, 2, 3, 2, 2, 1, 0, 3, 3, 1, 0, 0, 2, 1, 2, 3, 3, 3, 3, 0, 0, 0, 1, 0, 2, 0, 1, 2, 0, 0, 3, 3, 1, 3, 3, 2, 3, 3, 1, 1, 3, 0, 3, 3, 3, 3, 2, 2, 3, 2, 1, 3, 2, 3, 0, 0, 3, 0, 0, 3, 2, 1, 0, 2, 1, 2, 2, 1, 2, 2, 0, 2, 0, 2, 2, 2, 3, 0, 0, 3, 3, 1, 0, 1, 0, 0, 3, 3, 3, 0, 2, 2, 1, 2, 2, 2, 0, 3, 1, 1, 3, 3, 1, 2, 3, 2, 2, 0, 3, 3, 0, 2, 2, 0, 3, 3, 0, 1, 1, 0, 1, 2, 1, 3, 1, 0, 0, 3, 2, 0, 1, 0, 1, 2, 1, 1, 2, 2, 0, 3, 2, 3, 1, 2, 3, 3, 2, 2, 2, 3, 0, 0, 1, 0, 3, 0, 0, 2, 1, 1, 1, 3, 0, 1, 3, 3, 3, 1, 3, 2, 3, 1, 1, 2, 3, 0, 0, 1, 1, 1, 0, 3, 2, 0, 1, 3, 0, 3, 1, 0, 3, 3, 1, 0, 0, 0, 3, 3, 1, 1, 1, 1, 0, 0, 3, 2, 0, 3, 3], \"coloraxis\": \"coloraxis\", \"symbol\": \"circle\"}, \"mode\": \"markers\", \"name\": \"\", \"scene\": \"scene\", \"showlegend\": false, \"type\": \"scatter3d\", \"x\": [2549, 2631, 2603, 2769, 1411, 1067, 3220, 700, 1099, 513, 3946, 3826, 1482, 2680, 373, 568, 3554, 3752, 1835, 2337, 2819, 3283, 1433, 1037, 2583, 2782, 3763, 3286, 2373, 478, 3532, 508, 2227, 3845, 1262, 1326, 2113, 3429, 3169, 2150, 2484, 3339, 1878, 1629, 504, 1152, 3587, 2296, 1270, 3238, 2059, 2053, 3112, 1440, 2908, 2552, 905, 3963, 2056, 2910, 1457, 431, 470, 2148, 2955, 3366, 3068, 3834, 1050, 3993, 3378, 2192, 392, 3709, 590, 1814, 907, 1449, 3448, 1837, 3464, 2593, 3484, 2009, 2048, 837, 854, 3210, 2746, 2334, 2822, 1971, 1410, 349, 1418, 3616, 880, 1601, 1412, 1692, 2600, 1308, 2413, 1047, 1204, 1799, 2676, 2597, 3029, 2343, 2016, 2213, 790, 3182, 3472, 2871, 3187, 1945, 488, 1214, 2598, 3242, 3534, 3426, 2488, 3255, 2863, 1496, 3801, 666, 3799, 1366, 2962, 2399, 2338, 2700, 2235, 3825, 284, 1427, 1324, 398, 3685, 2390, 278, 3556, 2196, 3799, 2268, 2965, 2341, 3557, 1354, 2147, 505, 1394, 374, 506, 3702, 1078, 2945, 2981, 490, 536, 2317, 3704, 2126, 2050, 2462, 1260, 3770, 1886, 3323, 2060, 3926, 2177, 728, 2478, 2842, 1617, 1472, 764, 2337, 3965, 3693, 797, 1687, 2940, 1545, 3834, 2505, 2243, 3600, 3971, 2844, 2227, 1665, 3355, 1866, 1287, 1046, 1441, 690, 2504, 2677, 2243, 2984, 1362, 3629, 3559, 2571, 2107, 1022, 2844, 711, 3117, 978, 1869, 1179, 3844, 593, 588, 3836, 2669, 2958, 3031, 3388, 2377, 2458, 2766, 3054, 3791, 625, 2227, 3256, 707, 1457, 3755, 1733, 720, 3560, 2311, 3846, 1717, 3704, 3800, 278, 1767, 1846, 829, 2986, 2394, 2169, 1181, 575, 2977, 532, 1702, 1074, 3352, 1027, 2039, 461, 527, 3271, 606, 2513, 1675, 2698, 1129, 468, 1210, 3086, 1595, 2332, 2589, 3760, 1851, 417, 294, 3576, 3945, 927, 2044, 2334, 1477, 3161, 3660, 1604, 2211, 3822, 3922, 1203, 2822, 447, 1652, 3608, 1228, 666, 1499, 3321, 1206, 952, 3927, 311, 955, 1109, 2969, 725, 1655, 3490, 1774, 3615, 714, 2768, 3739, 610, 715, 663, 1725, 834, 3865, 3059, 651, 796, 785, 3252, 1322, 2832, 1615, 2125, 990, 1595, 1213, 2500, 2801, 3451, 1201, 3139, 1938, 3185, 2111, 2369, 3625, 1051, 1036, 2938, 2855, 2727, 2973, 2581, 2690, 916, 2563, 3359, 941, 2280, 827, 473, 3865, 1274, 364, 3699, 2927, 1470, 1050, 2616, 2915, 2686, 1243, 3264, 2261, 2993, 706, 2542, 2523, 336, 2457, 418, 3917, 1246, 2971, 2324, 3121, 3801, 3333, 3475, 2360, 2895, 3652, 3097, 2101, 3918, 3869, 732, 3684, 3969, 1414, 1892, 3131, 2532, 3215, 3323, 1529, 2403, 3419, 3648, 1974, 2806, 2239, 582, 3890, 1141, 2511, 3838, 2734, 2330, 2244, 1851, 808, 1587, 2492, 2122, 1122, 3709, 3021, 624, 3937, 1797, 1458, 3348, 1834, 2775, 1277, 457, 438, 3210, 985, 3701, 1052, 1175, 1070, 3411, 1175, 301, 489, 1733, 2756, 2612, 1724, 2190, 1900, 3915, 1043, 3817, 2362, 1107, 2982, 2042, 1343, 2610, 2335, 1614, 1138, 604, 3652, 3955, 258, 1066, 1731, 3860, 3630, 1965, 1459, 2323, 3291, 3272, 918, 3488, 3961, 590, 3701, 463, 3644, 1713, 429, 2765, 2084, 1125, 2048, 1223, 3672, 3100, 343, 1970, 2728, 3635, 2180, 2488, 3864, 1155, 3566, 864, 869, 591, 1333, 2208, 2610, 2819, 1955, 3416, 3803, 574, 2129, 1948, 2978, 1619, 3716, 3454, 3777, 2712, 1434, 3968, 3383, 3278, 3970, 2674, 2776, 2336, 2430, 891, 728, 3886, 1711, 2856, 2447, 814, 2951, 3653, 1891, 701, 3139, 2811, 1701, 1853, 2445, 2287, 2003, 3595, 1726, 3952, 850, 1446, 1300, 719, 988, 2606, 2912, 2339, 1028, 3173, 1667, 1897, 1214, 3269, 445, 1073, 665, 3129, 3501, 3461, 3206, 3717, 3917, 861, 2885, 2777, 1017, 980, 2775, 3309, 3607, 1257, 759, 3720, 475, 1122, 1336, 1185, 705, 3169, 3483, 1183, 3373, 2801, 565, 3153, 3421, 316, 448, 2366, 3881, 462, 1480, 1087, 2711, 2144, 1165, 2998, 2249, 752, 1409, 3072, 1305, 3597, 3132, 3856, 1524, 3673, 3293, 3035, 584, 2675, 2382, 1391, 2346, 606, 1324, 1076, 643, 783, 3809, 2104, 1762, 3137, 1756, 3663, 2437, 1432, 1620, 1655, 2832, 961, 2608, 514, 2304, 933, 1896, 3655, 1973, 3278, 2183, 824, 2598, 1254, 3622, 1704, 1624, 3809, 2574, 950, 273, 446, 1510, 1122, 707, 751, 3393, 3771, 1851, 2735, 2253, 452, 1419, 969, 3441, 3786, 2710, 3533, 1735, 3587, 2298, 2027, 2406, 2419, 995, 2078, 1145, 626, 1509, 3371, 297, 3508, 2385, 1301, 2167, 3914, 2312, 2297, 411, 665, 3226, 740, 3878, 3406, 2440, 3959, 3703, 3714, 337, 3176, 1205, 2473, 1229, 2896, 2039, 520, 1378, 3254, 1803, 2501, 3762, 1796, 990, 2630, 1380, 3487, 1201, 3015, 3204, 433, 1906, 898, 2799, 2020, 770, 305, 2953, 1671, 2574, 3772, 2870, 2577, 2246, 2405, 3377, 3619, 1184, 2965, 3713, 3798, 1026, 1086, 2236, 1303, 3048, 616, 3764, 419, 2858, 504, 392, 820, 3387, 3447, 1403, 2295, 1973, 3755, 2073, 3872, 302, 1519, 2549, 404, 595, 1663, 2764, 2614, 1094, 2826, 2496, 2103, 966, 2172, 905, 3916, 3902, 2487, 3914, 363, 3233, 2532, 3836, 3076, 1513, 1724, 542, 3481, 3991, 1790, 509, 282, 3006, 1913, 1333, 3746, 3941, 3970, 3925, 424, 1284, 277, 1713, 485, 3002, 418, 1652, 2893, 1406, 629, 3724, 3835, 1354, 2376, 3438, 2655, 3361, 3535, 2150, 2587, 2736, 676, 2941, 3336, 3796, 3654, 2934, 2889, 3315, 1993, 2509, 3534, 2246, 3165, 286, 776, 3213, 716, 424, 3486, 3237, 1944, 643, 2317, 1436, 3190, 2338, 1334, 3657, 2080, 1609, 3078, 590, 2552, 3355, 1968, 3358, 1539, 942, 3669, 3612, 2351, 604, 1285, 515, 654, 2540, 3869, 3412, 509, 2547, 2735, 1369, 2942, 2812, 3497, 619, 3483, 1475, 1950, 3592, 3573, 2020, 1329, 3568, 1947, 1998, 725, 3302, 3884, 1185, 1656, 2870, 911, 3892, 3897, 656, 606, 1653, 860, 2197, 3458, 2066, 3676, 1518, 1018, 1360, 3449, 2524, 703, 1251, 582, 1732, 1252, 2146, 1927, 3328, 2462, 1172, 3598, 2437, 3271, 1511, 2981, 3119, 3647, 3148, 2829, 2373, 3998, 316, 999, 1808, 589, 3317, 670, 584, 2173, 1561, 2073, 1401, 3764, 1275, 1464, 2885, 3458, 3019, 1083, 3538, 2493, 3726, 1531, 601, 2991, 3912, 309, 323, 1489, 1322, 1846, 417, 3269, 3731, 667, 1241, 3941, 1018, 3142, 1444, 934, 3863, 3506, 1944, 348, 550, 971, 3984, 2973, 2019, 1587, 1870, 1352, 570, 546, 3624, 2944, 1209, 2752, 3868], \"y\": [842, 1021, 563, 615, 1821, 1859, 1821, 1954, 1445, 509, 769, 1520, 1815, 803, 1866, 775, 838, 595, 1131, 682, 772, 1709, 1949, 1602, 503, 961, 519, 956, 1453, 851, 1579, 1568, 1319, 1310, 644, 725, 589, 1725, 790, 560, 1347, 1646, 1253, 1656, 1195, 1514, 1723, 1054, 578, 596, 1547, 1760, 1654, 1457, 1073, 1936, 823, 987, 1757, 1063, 1484, 799, 1156, 1720, 702, 616, 1358, 1866, 1242, 1166, 1448, 1407, 605, 1038, 797, 819, 1114, 1234, 1199, 1103, 1589, 999, 1510, 1008, 1127, 1412, 1496, 1083, 668, 1309, 1724, 1977, 885, 879, 1322, 1137, 1355, 1665, 657, 593, 1883, 1732, 543, 1939, 553, 832, 1661, 1657, 1135, 1775, 783, 617, 867, 1310, 1804, 1900, 909, 1084, 1308, 1778, 1701, 772, 825, 1379, 1166, 1659, 826, 1564, 1957, 1571, 1414, 1790, 645, 668, 1652, 1213, 1272, 866, 536, 523, 1753, 1218, 1537, 786, 1678, 1814, 1101, 1461, 1216, 506, 843, 742, 1692, 1485, 1547, 1692, 637, 1224, 1356, 1840, 1481, 961, 1296, 1193, 1441, 517, 748, 1126, 1572, 1569, 1270, 1854, 625, 1577, 534, 946, 685, 1949, 947, 801, 703, 1165, 1082, 959, 1502, 1380, 1266, 1934, 1905, 1831, 596, 1562, 1490, 1523, 640, 1526, 1989, 1308, 609, 1905, 1703, 1445, 1087, 671, 1472, 765, 1642, 1265, 664, 1277, 1395, 1539, 1049, 1827, 903, 1987, 1154, 1336, 1886, 1551, 850, 660, 1225, 1452, 1686, 1634, 1708, 1151, 1578, 1689, 1488, 1313, 1715, 1442, 528, 1523, 1133, 1718, 1330, 1799, 633, 724, 822, 1918, 1891, 1373, 862, 1273, 957, 1617, 893, 1210, 708, 835, 1450, 973, 601, 507, 564, 1559, 754, 728, 1431, 767, 1722, 1992, 1876, 1054, 1283, 1281, 1066, 730, 1053, 1611, 793, 1220, 1662, 1281, 538, 823, 1733, 1429, 1839, 659, 1953, 1172, 612, 1563, 1191, 615, 1893, 1563, 1995, 1517, 832, 1162, 1595, 1329, 928, 1656, 1937, 977, 768, 1464, 1177, 1348, 1956, 1751, 1530, 1997, 1414, 1707, 894, 645, 1163, 1126, 1648, 1170, 508, 1097, 728, 1980, 1504, 1379, 1698, 920, 1144, 1995, 1430, 972, 662, 1867, 1730, 1723, 1882, 803, 580, 668, 1391, 1560, 821, 811, 1989, 1034, 618, 654, 576, 667, 869, 635, 609, 1557, 1604, 1182, 848, 1610, 1828, 880, 1394, 1960, 809, 899, 1976, 879, 916, 763, 508, 825, 1864, 1725, 1108, 1011, 1703, 1067, 1334, 775, 1899, 930, 1058, 1187, 1874, 1482, 1809, 864, 625, 1880, 1138, 560, 1117, 1712, 1836, 1036, 1860, 1375, 1945, 1896, 788, 880, 1323, 1868, 1266, 1042, 1479, 1476, 1552, 1454, 1007, 652, 1504, 1726, 1029, 1582, 1478, 1178, 707, 755, 912, 651, 1483, 914, 1456, 1178, 1503, 1681, 715, 1876, 1190, 1755, 1197, 1048, 1887, 1772, 1421, 1464, 728, 954, 685, 1472, 853, 1469, 1310, 1654, 902, 1448, 1631, 1608, 1991, 1349, 1589, 1844, 712, 972, 1406, 1289, 932, 1747, 1172, 1128, 664, 513, 1742, 1512, 1986, 965, 1067, 1583, 1653, 1433, 765, 1845, 752, 1948, 1077, 932, 1968, 1122, 1588, 601, 1615, 1589, 1417, 1697, 1330, 1476, 1579, 1277, 1089, 1663, 1949, 1138, 685, 1889, 857, 1902, 1225, 1066, 1554, 1337, 1926, 869, 1278, 1773, 1661, 1438, 1661, 1846, 1260, 512, 581, 1872, 687, 1062, 1678, 1417, 1074, 1832, 1039, 1059, 1606, 1928, 1875, 1128, 1748, 1413, 825, 1589, 535, 1780, 1671, 1821, 1076, 532, 777, 1217, 1656, 1185, 577, 737, 704, 525, 504, 793, 569, 1590, 707, 767, 1350, 1117, 641, 1002, 1408, 1900, 726, 1544, 1454, 1230, 1552, 1519, 723, 1191, 1168, 1229, 1758, 1290, 574, 1271, 1170, 1269, 1288, 1366, 1572, 1627, 1701, 1900, 1974, 1197, 587, 934, 1195, 1853, 1164, 1512, 1232, 1813, 946, 739, 704, 1663, 1966, 1219, 612, 1658, 1263, 1395, 621, 652, 1175, 561, 1137, 1835, 1170, 1595, 1719, 1770, 1312, 1878, 1871, 922, 1975, 1212, 1430, 1958, 1836, 557, 539, 880, 1369, 1109, 843, 598, 972, 1944, 1225, 644, 1919, 501, 1620, 1227, 1359, 1914, 1645, 1063, 946, 1231, 1397, 701, 570, 1993, 955, 924, 600, 518, 1063, 920, 1715, 1841, 543, 1762, 1112, 709, 1315, 1762, 1462, 571, 666, 1994, 1583, 1778, 1926, 966, 568, 1897, 1695, 1623, 914, 1721, 890, 600, 1677, 723, 638, 852, 1979, 710, 1034, 600, 1027, 1260, 1793, 675, 658, 1694, 804, 1713, 706, 1362, 1527, 768, 1314, 705, 1403, 1486, 781, 986, 1310, 560, 1348, 1567, 1940, 1979, 561, 1717, 535, 1413, 1358, 1519, 1254, 1591, 977, 1640, 663, 1744, 1624, 1108, 1188, 817, 863, 1397, 1108, 1068, 1702, 808, 1156, 1271, 696, 1981, 614, 1590, 1945, 1135, 1049, 1807, 984, 720, 1536, 771, 503, 675, 1936, 1303, 1004, 1972, 1822, 1159, 1782, 894, 1884, 1648, 798, 802, 1276, 1331, 1620, 1996, 1092, 1018, 545, 554, 1264, 1030, 1432, 558, 829, 1741, 1849, 733, 1872, 1853, 1149, 891, 1911, 550, 576, 1760, 969, 1160, 827, 1786, 774, 819, 1042, 1368, 1592, 1067, 1892, 915, 774, 1848, 1501, 1614, 911, 1520, 1647, 1347, 967, 1442, 1204, 1320, 1800, 1567, 1439, 1422, 1591, 880, 1929, 1642, 1511, 1312, 1852, 972, 691, 807, 1113, 721, 1188, 1512, 805, 918, 1320, 1236, 1387, 1883, 839, 1593, 1722, 1954, 1788, 1628, 1965, 833, 571, 1808, 1860, 1368, 1161, 1224, 902, 787, 854, 1184, 1973, 510, 966, 1438, 1986, 1907, 1489, 1843, 825, 1286, 840, 757, 814, 1195, 767, 1068, 994, 1550, 1878, 623, 1829, 525, 1065, 1425, 1296, 642, 1664, 1498, 981, 1236, 1673, 712, 569, 603, 1332, 1413, 1064, 1444, 1366, 906, 1554, 1187, 1156, 1918, 841, 730, 878, 1059, 1578, 1829, 1132, 1652, 912, 1181, 1497, 1790, 1742, 1549, 1372, 1112, 1005, 783, 1698, 899, 1062, 989, 1983, 1800, 1254, 868, 1205, 1284, 626, 1763, 694, 1265, 816, 904, 979, 1531, 934, 1624, 874, 1027, 1966, 1048, 1496, 959, 1349, 1689, 1558, 582, 1485, 1991, 553, 1231, 805, 764, 894, 1589, 1456, 743, 1061, 1428, 674, 832, 1625, 907, 1631, 1584, 1382, 633, 1444, 852, 922, 1745, 862, 1754, 1008, 1569, 1596, 1807, 1660, 1861, 648, 1379, 1910, 1807, 1923, 1345, 904, 1239, 1330, 516, 672, 892, 1778, 1130, 1359, 1866, 1597, 1046, 1035, 1175, 1261, 1068, 1713, 1688, 1413, 559, 1483, 860, 1090, 686, 818, 1456, 774, 1068, 1373, 1777], \"z\": [756, 1988, 1716, 1786, 1212, 1654, 1018, 1149, 836, 1224, 874, 1005, 748, 1440, 563, 1864, 1850, 810, 878, 1064, 1854, 1385, 822, 788, 1245, 1434, 645, 1075, 1311, 1263, 1739, 654, 1152, 1919, 881, 1249, 815, 1307, 730, 1613, 967, 1932, 714, 1456, 1652, 1810, 1791, 774, 1433, 1854, 1832, 1383, 629, 1287, 804, 1036, 1449, 820, 713, 683, 969, 975, 547, 1353, 1570, 1618, 1858, 1781, 1225, 603, 1724, 1217, 1026, 638, 1413, 1242, 1071, 778, 1552, 1486, 1206, 1616, 1752, 1122, 1049, 1894, 741, 1118, 1203, 1402, 1924, 1242, 802, 1105, 1990, 1179, 891, 1684, 961, 1317, 1739, 881, 984, 520, 902, 1504, 1634, 1796, 1846, 1869, 1471, 874, 1974, 513, 1244, 1661, 973, 771, 989, 1954, 1338, 1712, 863, 1376, 1203, 902, 786, 1965, 1732, 1398, 829, 792, 580, 1056, 1264, 1248, 669, 1686, 1539, 1042, 1926, 616, 1131, 1697, 536, 786, 1269, 1298, 1967, 1025, 800, 1359, 1996, 1013, 590, 1925, 1989, 826, 1983, 1545, 1533, 621, 1272, 1729, 1071, 974, 1554, 1611, 1937, 1942, 845, 627, 842, 1737, 1199, 1740, 648, 1136, 1220, 879, 1065, 831, 1191, 1631, 588, 500, 1698, 1299, 898, 1381, 984, 1533, 1464, 539, 1179, 751, 1497, 1215, 1948, 1542, 1235, 1345, 589, 1182, 1052, 1429, 873, 836, 1478, 1460, 705, 1666, 1077, 1020, 1235, 1516, 1499, 583, 1958, 1995, 642, 1178, 1404, 1040, 1453, 1677, 517, 1560, 1226, 1200, 1647, 1308, 1615, 687, 637, 1606, 1543, 980, 1441, 1383, 1009, 1754, 860, 1543, 1108, 673, 1758, 886, 1485, 1038, 946, 1462, 654, 1604, 1882, 1816, 765, 1398, 1980, 1559, 1928, 1529, 952, 1517, 1741, 1596, 1564, 1222, 692, 1617, 1571, 1247, 1767, 714, 1935, 1933, 1509, 954, 662, 888, 527, 820, 1493, 1929, 764, 1092, 1891, 1699, 683, 1664, 763, 572, 1963, 1489, 1294, 997, 655, 1458, 1243, 519, 1767, 566, 515, 1168, 882, 1942, 776, 564, 1975, 1212, 1118, 1388, 1462, 1130, 754, 1726, 1876, 709, 557, 1914, 775, 1910, 1923, 1370, 994, 1078, 724, 1104, 1182, 1795, 1224, 1442, 1023, 1361, 652, 935, 1345, 1292, 1256, 1364, 1786, 1429, 682, 1199, 1688, 1898, 1438, 1463, 1584, 1059, 1253, 1442, 939, 986, 1029, 1280, 898, 1381, 1565, 1299, 1726, 1331, 1922, 1038, 992, 1186, 1920, 1866, 981, 1195, 1706, 749, 1711, 681, 1974, 1510, 814, 1025, 1247, 1814, 1233, 642, 721, 1670, 550, 699, 1138, 1903, 817, 1126, 1139, 926, 1506, 726, 1753, 794, 1161, 1350, 619, 660, 1468, 1705, 1476, 1666, 1026, 1033, 1529, 559, 973, 1223, 956, 1797, 882, 596, 574, 990, 1053, 858, 758, 1495, 1104, 1352, 1304, 1205, 562, 585, 1441, 1075, 1629, 1975, 1798, 545, 1657, 1341, 817, 1058, 1203, 1744, 740, 1133, 889, 1719, 1285, 1850, 1905, 1158, 1325, 772, 1743, 882, 1208, 1050, 1366, 899, 1224, 1131, 1884, 1370, 1497, 867, 681, 884, 1358, 998, 1989, 862, 1785, 799, 793, 695, 728, 1940, 1304, 1078, 1259, 790, 1594, 548, 1256, 1911, 1649, 1264, 1262, 1972, 1484, 1090, 1259, 1439, 592, 1777, 870, 1106, 948, 1393, 982, 1586, 1579, 644, 1157, 539, 750, 1472, 1337, 1663, 861, 773, 1313, 1849, 1613, 1259, 1151, 1807, 1763, 1029, 952, 654, 1827, 1916, 1924, 1580, 1942, 1582, 1234, 517, 1917, 1759, 939, 1463, 848, 1803, 915, 1354, 1143, 632, 899, 1642, 1450, 1463, 1013, 1587, 1665, 1815, 739, 963, 1508, 1000, 544, 1627, 759, 1416, 1088, 1596, 760, 857, 1100, 676, 658, 1239, 1901, 1813, 1578, 1878, 1864, 1109, 1171, 1949, 1722, 1920, 1809, 964, 1237, 1082, 828, 1241, 545, 1710, 1793, 1463, 1100, 1951, 1704, 1897, 809, 1306, 1771, 1536, 1509, 1545, 1987, 1022, 1337, 522, 1883, 1787, 910, 781, 1501, 1176, 1285, 583, 684, 1838, 904, 1552, 1854, 559, 1682, 1383, 655, 1715, 906, 637, 1230, 1315, 599, 1302, 727, 1787, 1096, 1173, 816, 1970, 1101, 1654, 1191, 1089, 1033, 1781, 901, 1701, 1308, 1232, 630, 1184, 1991, 1256, 1917, 510, 1511, 1813, 747, 1947, 935, 1421, 1652, 672, 1031, 527, 739, 1596, 575, 1364, 1478, 1282, 1353, 1435, 1651, 516, 1000, 1754, 1703, 1935, 1898, 1832, 721, 1048, 1873, 1465, 1477, 1748, 1383, 1159, 1630, 857, 1293, 1162, 1747, 736, 1418, 757, 1750, 549, 818, 974, 938, 1505, 1116, 991, 577, 1374, 1251, 1747, 1674, 800, 1016, 1327, 501, 1621, 858, 1532, 1294, 810, 811, 1318, 1655, 1702, 1013, 1883, 1862, 1301, 1605, 718, 699, 1742, 1558, 766, 1799, 1658, 1666, 1998, 1491, 1891, 1262, 650, 907, 1234, 519, 1595, 895, 1589, 1564, 1384, 1611, 1733, 1634, 922, 1291, 874, 1089, 1604, 1162, 1648, 910, 723, 999, 1300, 819, 1238, 643, 1633, 735, 1226, 1339, 1445, 1424, 883, 1452, 806, 849, 1812, 947, 1605, 1916, 1895, 1123, 1409, 1484, 1005, 1675, 1724, 1958, 1930, 1518, 1704, 589, 859, 821, 1671, 1865, 822, 1018, 829, 522, 1009, 1564, 1448, 896, 605, 1056, 1330, 670, 1909, 1185, 1008, 1642, 1668, 1482, 1229, 823, 1326, 932, 926, 1641, 660, 1051, 1889, 1982, 893, 1163, 589, 962, 697, 1312, 1862, 1469, 952, 704, 671, 1583, 809, 1151, 791, 1391, 1336, 1638, 690, 1073, 643, 1660, 1395, 783, 1208, 799, 1145, 1169, 563, 1360, 1423, 1152, 1577, 1181, 1228, 1523, 867, 774, 1513, 812, 580, 783, 662, 1081, 697, 1406, 1001, 1995, 1500, 530, 832, 1026, 672, 1267, 670, 928, 1897, 1382, 1011, 1929, 1076, 688, 1403, 734, 1234, 1159, 1968, 1165, 1481, 1569, 1554, 1876, 1793, 1367, 1125, 1913, 1203, 828, 1155, 618, 1545, 670, 563, 1293, 1084, 1723, 831, 1933, 1980, 1469, 1514, 937, 1119, 1556, 1263, 1819, 1638, 1435, 1394, 1197, 1108, 1956, 1026, 614, 516, 1334, 806, 1230, 687, 558, 507, 1670, 765, 1190, 1744, 1248, 714, 1973, 1670, 506, 736, 1019, 674, 1409, 1420, 774, 1377, 1517, 1663, 1538, 511, 541, 940, 1666, 1659, 1330, 983, 772, 1366, 1219, 507, 1735, 1291, 719, 1915, 917, 730, 1808, 1908, 1977, 1452, 1972, 930, 1190, 1968, 1165, 1877, 1997, 671, 1284, 974, 1759, 1465, 760, 661, 1304, 698, 1143, 1782, 1445, 1261, 1902, 1782, 1667, 1040, 1960, 1394, 1591, 1910, 890, 864, 1994, 823, 1552, 1463, 1910, 1392, 510, 1427, 1731, 875, 1348, 616]}],\n",
              "                        {\"coloraxis\": {\"colorbar\": {\"title\": {\"text\": \"price_range\"}}, \"colorscale\": [[0.0, \"#0d0887\"], [0.1111111111111111, \"#46039f\"], [0.2222222222222222, \"#7201a8\"], [0.3333333333333333, \"#9c179e\"], [0.4444444444444444, \"#bd3786\"], [0.5555555555555556, \"#d8576b\"], [0.6666666666666666, \"#ed7953\"], [0.7777777777777778, \"#fb9f3a\"], [0.8888888888888888, \"#fdca26\"], [1.0, \"#f0f921\"]]}, \"legend\": {\"tracegroupgap\": 0}, \"margin\": {\"t\": 60}, \"scene\": {\"domain\": {\"x\": [0.0, 1.0], \"y\": [0.0, 1.0]}, \"xaxis\": {\"title\": {\"text\": \"ram\"}}, \"yaxis\": {\"title\": {\"text\": \"battery_power\"}}, \"zaxis\": {\"title\": {\"text\": \"px_width\"}}}, \"template\": {\"data\": {\"bar\": [{\"error_x\": {\"color\": \"#2a3f5f\"}, \"error_y\": {\"color\": \"#2a3f5f\"}, \"marker\": {\"line\": {\"color\": \"#E5ECF6\", \"width\": 0.5}}, \"type\": \"bar\"}], \"barpolar\": [{\"marker\": {\"line\": {\"color\": \"#E5ECF6\", \"width\": 0.5}}, \"type\": \"barpolar\"}], \"carpet\": [{\"aaxis\": {\"endlinecolor\": \"#2a3f5f\", \"gridcolor\": \"white\", \"linecolor\": \"white\", \"minorgridcolor\": \"white\", \"startlinecolor\": \"#2a3f5f\"}, \"baxis\": {\"endlinecolor\": \"#2a3f5f\", \"gridcolor\": \"white\", \"linecolor\": \"white\", \"minorgridcolor\": \"white\", \"startlinecolor\": \"#2a3f5f\"}, \"type\": \"carpet\"}], \"choropleth\": [{\"colorbar\": {\"outlinewidth\": 0, \"ticks\": \"\"}, \"type\": \"choropleth\"}], \"contour\": [{\"colorbar\": {\"outlinewidth\": 0, \"ticks\": \"\"}, \"colorscale\": [[0.0, \"#0d0887\"], [0.1111111111111111, \"#46039f\"], [0.2222222222222222, \"#7201a8\"], [0.3333333333333333, \"#9c179e\"], [0.4444444444444444, \"#bd3786\"], [0.5555555555555556, \"#d8576b\"], [0.6666666666666666, \"#ed7953\"], [0.7777777777777778, \"#fb9f3a\"], [0.8888888888888888, \"#fdca26\"], [1.0, \"#f0f921\"]], \"type\": \"contour\"}], \"contourcarpet\": [{\"colorbar\": {\"outlinewidth\": 0, \"ticks\": \"\"}, \"type\": \"contourcarpet\"}], \"heatmap\": [{\"colorbar\": {\"outlinewidth\": 0, \"ticks\": \"\"}, \"colorscale\": [[0.0, \"#0d0887\"], [0.1111111111111111, \"#46039f\"], [0.2222222222222222, \"#7201a8\"], [0.3333333333333333, \"#9c179e\"], [0.4444444444444444, \"#bd3786\"], [0.5555555555555556, \"#d8576b\"], [0.6666666666666666, \"#ed7953\"], [0.7777777777777778, \"#fb9f3a\"], [0.8888888888888888, \"#fdca26\"], [1.0, \"#f0f921\"]], \"type\": \"heatmap\"}], \"heatmapgl\": [{\"colorbar\": {\"outlinewidth\": 0, \"ticks\": \"\"}, \"colorscale\": [[0.0, \"#0d0887\"], [0.1111111111111111, \"#46039f\"], [0.2222222222222222, \"#7201a8\"], [0.3333333333333333, \"#9c179e\"], [0.4444444444444444, \"#bd3786\"], [0.5555555555555556, \"#d8576b\"], [0.6666666666666666, \"#ed7953\"], [0.7777777777777778, \"#fb9f3a\"], [0.8888888888888888, \"#fdca26\"], [1.0, \"#f0f921\"]], \"type\": \"heatmapgl\"}], \"histogram\": [{\"marker\": {\"colorbar\": {\"outlinewidth\": 0, \"ticks\": \"\"}}, \"type\": \"histogram\"}], \"histogram2d\": [{\"colorbar\": {\"outlinewidth\": 0, \"ticks\": \"\"}, \"colorscale\": [[0.0, \"#0d0887\"], [0.1111111111111111, \"#46039f\"], [0.2222222222222222, \"#7201a8\"], [0.3333333333333333, \"#9c179e\"], [0.4444444444444444, \"#bd3786\"], [0.5555555555555556, \"#d8576b\"], [0.6666666666666666, \"#ed7953\"], [0.7777777777777778, \"#fb9f3a\"], [0.8888888888888888, \"#fdca26\"], [1.0, \"#f0f921\"]], \"type\": \"histogram2d\"}], \"histogram2dcontour\": [{\"colorbar\": {\"outlinewidth\": 0, \"ticks\": \"\"}, \"colorscale\": [[0.0, \"#0d0887\"], [0.1111111111111111, \"#46039f\"], [0.2222222222222222, \"#7201a8\"], [0.3333333333333333, \"#9c179e\"], [0.4444444444444444, \"#bd3786\"], [0.5555555555555556, \"#d8576b\"], [0.6666666666666666, \"#ed7953\"], [0.7777777777777778, \"#fb9f3a\"], [0.8888888888888888, \"#fdca26\"], [1.0, \"#f0f921\"]], \"type\": \"histogram2dcontour\"}], \"mesh3d\": [{\"colorbar\": {\"outlinewidth\": 0, \"ticks\": \"\"}, \"type\": \"mesh3d\"}], \"parcoords\": [{\"line\": {\"colorbar\": {\"outlinewidth\": 0, \"ticks\": \"\"}}, \"type\": \"parcoords\"}], \"pie\": [{\"automargin\": true, \"type\": \"pie\"}], \"scatter\": [{\"marker\": {\"colorbar\": {\"outlinewidth\": 0, \"ticks\": \"\"}}, \"type\": \"scatter\"}], \"scatter3d\": [{\"line\": {\"colorbar\": {\"outlinewidth\": 0, \"ticks\": \"\"}}, \"marker\": {\"colorbar\": {\"outlinewidth\": 0, \"ticks\": \"\"}}, \"type\": \"scatter3d\"}], \"scattercarpet\": [{\"marker\": {\"colorbar\": {\"outlinewidth\": 0, \"ticks\": \"\"}}, \"type\": \"scattercarpet\"}], \"scattergeo\": [{\"marker\": {\"colorbar\": {\"outlinewidth\": 0, \"ticks\": \"\"}}, \"type\": \"scattergeo\"}], \"scattergl\": [{\"marker\": {\"colorbar\": {\"outlinewidth\": 0, \"ticks\": \"\"}}, \"type\": \"scattergl\"}], \"scattermapbox\": [{\"marker\": {\"colorbar\": {\"outlinewidth\": 0, \"ticks\": \"\"}}, \"type\": \"scattermapbox\"}], \"scatterpolar\": [{\"marker\": {\"colorbar\": {\"outlinewidth\": 0, \"ticks\": \"\"}}, \"type\": \"scatterpolar\"}], \"scatterpolargl\": [{\"marker\": {\"colorbar\": {\"outlinewidth\": 0, \"ticks\": \"\"}}, \"type\": \"scatterpolargl\"}], \"scatterternary\": [{\"marker\": {\"colorbar\": {\"outlinewidth\": 0, \"ticks\": \"\"}}, \"type\": \"scatterternary\"}], \"surface\": [{\"colorbar\": {\"outlinewidth\": 0, \"ticks\": \"\"}, \"colorscale\": [[0.0, \"#0d0887\"], [0.1111111111111111, \"#46039f\"], [0.2222222222222222, \"#7201a8\"], [0.3333333333333333, \"#9c179e\"], [0.4444444444444444, \"#bd3786\"], [0.5555555555555556, \"#d8576b\"], [0.6666666666666666, \"#ed7953\"], [0.7777777777777778, \"#fb9f3a\"], [0.8888888888888888, \"#fdca26\"], [1.0, \"#f0f921\"]], \"type\": \"surface\"}], \"table\": [{\"cells\": {\"fill\": {\"color\": \"#EBF0F8\"}, \"line\": {\"color\": \"white\"}}, \"header\": {\"fill\": {\"color\": \"#C8D4E3\"}, \"line\": {\"color\": \"white\"}}, \"type\": \"table\"}]}, \"layout\": {\"annotationdefaults\": {\"arrowcolor\": \"#2a3f5f\", \"arrowhead\": 0, \"arrowwidth\": 1}, \"coloraxis\": {\"colorbar\": {\"outlinewidth\": 0, \"ticks\": \"\"}}, \"colorscale\": {\"diverging\": [[0, \"#8e0152\"], [0.1, \"#c51b7d\"], [0.2, \"#de77ae\"], [0.3, \"#f1b6da\"], [0.4, \"#fde0ef\"], [0.5, \"#f7f7f7\"], [0.6, \"#e6f5d0\"], [0.7, \"#b8e186\"], [0.8, \"#7fbc41\"], [0.9, \"#4d9221\"], [1, \"#276419\"]], \"sequential\": [[0.0, \"#0d0887\"], [0.1111111111111111, \"#46039f\"], [0.2222222222222222, \"#7201a8\"], [0.3333333333333333, \"#9c179e\"], [0.4444444444444444, \"#bd3786\"], [0.5555555555555556, \"#d8576b\"], [0.6666666666666666, \"#ed7953\"], [0.7777777777777778, \"#fb9f3a\"], [0.8888888888888888, \"#fdca26\"], [1.0, \"#f0f921\"]], \"sequentialminus\": [[0.0, \"#0d0887\"], [0.1111111111111111, \"#46039f\"], [0.2222222222222222, \"#7201a8\"], [0.3333333333333333, \"#9c179e\"], [0.4444444444444444, \"#bd3786\"], [0.5555555555555556, \"#d8576b\"], [0.6666666666666666, \"#ed7953\"], [0.7777777777777778, \"#fb9f3a\"], [0.8888888888888888, \"#fdca26\"], [1.0, \"#f0f921\"]]}, \"colorway\": [\"#636efa\", \"#EF553B\", \"#00cc96\", \"#ab63fa\", \"#FFA15A\", \"#19d3f3\", \"#FF6692\", \"#B6E880\", \"#FF97FF\", \"#FECB52\"], \"font\": {\"color\": \"#2a3f5f\"}, \"geo\": {\"bgcolor\": \"white\", \"lakecolor\": \"white\", \"landcolor\": \"#E5ECF6\", \"showlakes\": true, \"showland\": true, \"subunitcolor\": \"white\"}, \"hoverlabel\": {\"align\": \"left\"}, \"hovermode\": \"closest\", \"mapbox\": {\"style\": \"light\"}, \"paper_bgcolor\": \"white\", \"plot_bgcolor\": \"#E5ECF6\", \"polar\": {\"angularaxis\": {\"gridcolor\": \"white\", \"linecolor\": \"white\", \"ticks\": \"\"}, \"bgcolor\": \"#E5ECF6\", \"radialaxis\": {\"gridcolor\": \"white\", \"linecolor\": \"white\", \"ticks\": \"\"}}, \"scene\": {\"xaxis\": {\"backgroundcolor\": \"#E5ECF6\", \"gridcolor\": \"white\", \"gridwidth\": 2, \"linecolor\": \"white\", \"showbackground\": true, \"ticks\": \"\", \"zerolinecolor\": \"white\"}, \"yaxis\": {\"backgroundcolor\": \"#E5ECF6\", \"gridcolor\": \"white\", \"gridwidth\": 2, \"linecolor\": \"white\", \"showbackground\": true, \"ticks\": \"\", \"zerolinecolor\": \"white\"}, \"zaxis\": {\"backgroundcolor\": \"#E5ECF6\", \"gridcolor\": \"white\", \"gridwidth\": 2, \"linecolor\": \"white\", \"showbackground\": true, \"ticks\": \"\", \"zerolinecolor\": \"white\"}}, \"shapedefaults\": {\"line\": {\"color\": \"#2a3f5f\"}}, \"ternary\": {\"aaxis\": {\"gridcolor\": \"white\", \"linecolor\": \"white\", \"ticks\": \"\"}, \"baxis\": {\"gridcolor\": \"white\", \"linecolor\": \"white\", \"ticks\": \"\"}, \"bgcolor\": \"#E5ECF6\", \"caxis\": {\"gridcolor\": \"white\", \"linecolor\": \"white\", \"ticks\": \"\"}}, \"title\": {\"x\": 0.05}, \"xaxis\": {\"automargin\": true, \"gridcolor\": \"white\", \"linecolor\": \"white\", \"ticks\": \"\", \"title\": {\"standoff\": 15}, \"zerolinecolor\": \"white\", \"zerolinewidth\": 2}, \"yaxis\": {\"automargin\": true, \"gridcolor\": \"white\", \"linecolor\": \"white\", \"ticks\": \"\", \"title\": {\"standoff\": 15}, \"zerolinecolor\": \"white\", \"zerolinewidth\": 2}}}},\n",
              "                        {\"responsive\": true}\n",
              "                    ).then(function(){\n",
              "                            \n",
              "var gd = document.getElementById('111fdc00-e54c-45e6-a9b4-8feaadb92464');\n",
              "var x = new MutationObserver(function (mutations, observer) {{\n",
              "        var display = window.getComputedStyle(gd).display;\n",
              "        if (!display || display === 'none') {{\n",
              "            console.log([gd, 'removed!']);\n",
              "            Plotly.purge(gd);\n",
              "            observer.disconnect();\n",
              "        }}\n",
              "}});\n",
              "\n",
              "// Listen for the removal of the full notebook cells\n",
              "var notebookContainer = gd.closest('#notebook-container');\n",
              "if (notebookContainer) {{\n",
              "    x.observe(notebookContainer, {childList: true});\n",
              "}}\n",
              "\n",
              "// Listen for the clearing of the current output cell\n",
              "var outputEl = gd.closest('.output');\n",
              "if (outputEl) {{\n",
              "    x.observe(outputEl, {childList: true});\n",
              "}}\n",
              "\n",
              "                        })\n",
              "                };\n",
              "                \n",
              "            </script>\n",
              "        </div>\n",
              "</body>\n",
              "</html>"
            ]
          },
          "metadata": {
            "tags": []
          }
        }
      ]
    },
    {
      "cell_type": "markdown",
      "metadata": {
        "id": "lQXoIabmcA_7"
      },
      "source": [
        "we see how ram, battery power, and px width all contribute to a mobile phone's price classification"
      ]
    },
    {
      "cell_type": "markdown",
      "metadata": {
        "id": "sBKUdDLrG0sz"
      },
      "source": [
        "# Implementation of ML Algorithms\n",
        "\n",
        "To predict the mobile phone prices, we are going to apply below algorithms respectively on the training and validation dataset. After that, we are going to choose the best model for our data set and create target values for test dataset.\n"
      ]
    },
    {
      "cell_type": "code",
      "metadata": {
        "id": "fC5DZQ8Ncb7g"
      },
      "source": [
        "X = data.drop('price_range', axis=1)\n",
        "y = data['price_range']"
      ],
      "execution_count": null,
      "outputs": []
    },
    {
      "cell_type": "markdown",
      "metadata": {
        "id": "-lZ4KmpWcpWm"
      },
      "source": [
        "### **1.Train-Test-Split**"
      ]
    },
    {
      "cell_type": "code",
      "metadata": {
        "id": "nPSAD46wcvuV"
      },
      "source": [
        "X_train, X_test, y_train, y_test = train_test_split(X, y, test_size=.33, random_state=100)"
      ],
      "execution_count": null,
      "outputs": []
    },
    {
      "cell_type": "code",
      "metadata": {
        "id": "k8e1efyQc5fz"
      },
      "source": [
        "models = {'KNN': KNeighborsClassifier(),\n",
        "         'Logistic Regression': LogisticRegression(),\n",
        "         'Random Forest': RandomForestClassifier()}\n",
        "         \n",
        "def fit_and_score(models, X_train, X_test, y_train, y_test):\n",
        "    np.random.seed(42)\n",
        "    \n",
        "    model_scores = {}\n",
        "    \n",
        "    for name, model in models.items():\n",
        "        model.fit(X_train, y_train)\n",
        "        \n",
        "        model_scores[name] = model.score(X_test, y_test)\n",
        "    return model_scores"
      ],
      "execution_count": null,
      "outputs": []
    },
    {
      "cell_type": "code",
      "metadata": {
        "colab": {
          "base_uri": "https://localhost:8080/"
        },
        "id": "JwCO3LJkfFEO",
        "outputId": "63585223-ad94-4918-a38a-bbe77224d86e"
      },
      "source": [
        "model_scores = fit_and_score(models=models, \n",
        "                             X_train=X_train,\n",
        "                            X_test=X_test,\n",
        "                            y_train=y_train,\n",
        "                            y_test=y_test)\n",
        "model_scores"
      ],
      "execution_count": null,
      "outputs": [
        {
          "output_type": "stream",
          "text": [
            "/usr/local/lib/python3.7/dist-packages/sklearn/linear_model/_logistic.py:940: ConvergenceWarning:\n",
            "\n",
            "lbfgs failed to converge (status=1):\n",
            "STOP: TOTAL NO. of ITERATIONS REACHED LIMIT.\n",
            "\n",
            "Increase the number of iterations (max_iter) or scale the data as shown in:\n",
            "    https://scikit-learn.org/stable/modules/preprocessing.html\n",
            "Please also refer to the documentation for alternative solver options:\n",
            "    https://scikit-learn.org/stable/modules/linear_model.html#logistic-regression\n",
            "\n"
          ],
          "name": "stderr"
        },
        {
          "output_type": "execute_result",
          "data": {
            "text/plain": [
              "{'KNN': 0.9196969696969697,\n",
              " 'Logistic Regression': 0.6272727272727273,\n",
              " 'Random Forest': 0.8681818181818182}"
            ]
          },
          "metadata": {
            "tags": []
          },
          "execution_count": 48
        }
      ]
    },
    {
      "cell_type": "code",
      "metadata": {
        "colab": {
          "base_uri": "https://localhost:8080/",
          "height": 281
        },
        "id": "J4HHSIDDfstx",
        "outputId": "6fe8dc20-568a-4560-ec94-39016d777592"
      },
      "source": [
        "models = ['logistic regression', 'random forest', 'knn']\n",
        "acc_scores = [0.6272727272727273, 0.8681818181818182, 0.9196969696969697]\n",
        "\n",
        "plt.bar(models, acc_scores, color=['lightblue', 'pink', 'lightgrey'])\n",
        "plt.ylabel(\"accuracy scores\")\n",
        "plt.title(\"Which model is the most accurate?\")\n",
        "plt.show()"
      ],
      "execution_count": null,
      "outputs": [
        {
          "output_type": "display_data",
          "data": {
            "image/png": "[encoded data removed]",
            "text/plain": [
              "<Figure size 432x288 with 1 Axes>"
            ]
          },
          "metadata": {
            "tags": [],
            "needs_background": "light"
          }
        }
      ]
    },
    {
      "cell_type": "markdown",
      "metadata": {
        "id": "i-4jn9WQgKeK"
      },
      "source": [
        "Let's go through tuning hyperparemters of our KNN and Random Forest models."
      ]
    },
    {
      "cell_type": "markdown",
      "metadata": {
        "id": "GSqnpYocgec0"
      },
      "source": [
        "## Hyperparameter tuning: **KNeighborsClassifier**"
      ]
    },
    {
      "cell_type": "code",
      "metadata": {
        "id": "VmopelbWgUv7"
      },
      "source": [
        "train_scores = []\n",
        "\n",
        "test_scores = []\n",
        "\n",
        "neighbors = range(1, 21)\n",
        "\n",
        "knn = KNeighborsClassifier()\n",
        "\n",
        "for i in neighbors:\n",
        "    knn.set_params(n_neighbors = i)\n",
        "    \n",
        "    knn.fit(X_train, y_train)\n",
        "    \n",
        "    train_scores.append(knn.score(X_train, y_train))\n",
        "    \n",
        "    test_scores.append(knn.score(X_test, y_test))"
      ],
      "execution_count": null,
      "outputs": []
    },
    {
      "cell_type": "code",
      "metadata": {
        "colab": {
          "base_uri": "https://localhost:8080/",
          "height": 296
        },
        "id": "8fk693xXhDDE",
        "outputId": "4d2799c6-aef6-4872-899a-86743270a112"
      },
      "source": [
        "plt.plot(neighbors, train_scores, label=\"Train Scores\")\n",
        "plt.plot(neighbors, test_scores, label=\"Test Scores\")\n",
        "plt.xticks(np.arange(1, 21, 1))\n",
        "plt.xlabel(\"Number of neighbors\")\n",
        "plt.ylabel(\"Model score\")\n",
        "plt.legend()\n",
        "\n",
        "print(f\"Maximum KNN score on the test data: {max(test_scores)*100:.2f}%\")"
      ],
      "execution_count": null,
      "outputs": [
        {
          "output_type": "stream",
          "text": [
            "Maximum KNN score on the test data: 92.42%\n"
          ],
          "name": "stdout"
        },
        {
          "output_type": "display_data",
          "data": {
            "image/png": "[encoded data removed]",
            "text/plain": [
              "<Figure size 432x288 with 1 Axes>"
            ]
          },
          "metadata": {
            "tags": [],
            "needs_background": "light"
          }
        }
      ]
    },
    {
      "cell_type": "markdown",
      "metadata": {
        "id": "PZjNHivhhKqk"
      },
      "source": [
        "n_neighbors = 13 seems to be the best choice."
      ]
    },
    {
      "cell_type": "code",
      "metadata": {
        "colab": {
          "base_uri": "https://localhost:8080/"
        },
        "id": "ChQidcuAhYeG",
        "outputId": "b74bfefc-6a3b-4cde-e885-105098c7a980"
      },
      "source": [
        "knn = KNeighborsClassifier(n_neighbors=13)\n",
        "knn.fit(X_train, y_train)\n",
        "y_pred = knn.predict(X_test)\n",
        "print(f'KNN Model Score: {knn.score(X_test, y_test) * 100}%')"
      ],
      "execution_count": null,
      "outputs": [
        {
          "output_type": "stream",
          "text": [
            "KNN Model Score: 92.42424242424242%\n"
          ],
          "name": "stdout"
        }
      ]
    },
    {
      "cell_type": "markdown",
      "metadata": {
        "id": "8rx2xIN4huu3"
      },
      "source": [
        "## Hyperparemeter tuning: **Random Forest Model**\n"
      ]
    },
    {
      "cell_type": "markdown",
      "metadata": {
        "id": "E6GZgRUEiDxc"
      },
      "source": [
        "Tuning Random Forest Classifier using RandomizedSearchCV"
      ]
    },
    {
      "cell_type": "code",
      "metadata": {
        "id": "Ixc49a_eiXKX"
      },
      "source": [
        "rf_grid = {\"n_estimators\": np.arange(10, 1000, 50),\n",
        "           \"max_depth\": [None, 3, 5, 10],\n",
        "           \"min_samples_split\": np.arange(2, 20, 2),\n",
        "           \"min_samples_leaf\": np.arange(1, 20, 2)}"
      ],
      "execution_count": null,
      "outputs": []
    },
    {
      "cell_type": "code",
      "metadata": {
        "id": "S7ecDNutiZlt"
      },
      "source": [
        "rs_rf = RandomizedSearchCV(RandomForestClassifier(),\n",
        "                           param_distributions=rf_grid,\n",
        "                           cv=5,\n",
        "                           n_iter=20,\n",
        "                           verbose=True)"
      ],
      "execution_count": null,
      "outputs": []
    },
    {
      "cell_type": "code",
      "metadata": {
        "colab": {
          "base_uri": "https://localhost:8080/"
        },
        "id": "Fj4oIkOUjFUC",
        "outputId": "bb66ecdc-98cc-4be5-c6c9-e3309b8bd2ff"
      },
      "source": [
        "rs_rf.fit(X_train, y_train)"
      ],
      "execution_count": null,
      "outputs": [
        {
          "output_type": "stream",
          "text": [
            "Fitting 5 folds for each of 20 candidates, totalling 100 fits\n"
          ],
          "name": "stdout"
        },
        {
          "output_type": "stream",
          "text": [
            "[Parallel(n_jobs=1)]: Using backend SequentialBackend with 1 concurrent workers.\n",
            "[Parallel(n_jobs=1)]: Done 100 out of 100 | elapsed:  2.4min finished\n"
          ],
          "name": "stderr"
        },
        {
          "output_type": "execute_result",
          "data": {
            "text/plain": [
              "RandomizedSearchCV(cv=5, error_score=nan,\n",
              "                   estimator=RandomForestClassifier(bootstrap=True,\n",
              "                                                    ccp_alpha=0.0,\n",
              "                                                    class_weight=None,\n",
              "                                                    criterion='gini',\n",
              "                                                    max_depth=None,\n",
              "                                                    max_features='auto',\n",
              "                                                    max_leaf_nodes=None,\n",
              "                                                    max_samples=None,\n",
              "                                                    min_impurity_decrease=0.0,\n",
              "                                                    min_impurity_split=None,\n",
              "                                                    min_samples_leaf=1,\n",
              "                                                    min_samples_split=2,\n",
              "                                                    min_weight_fraction_leaf=0.0,\n",
              "                                                    n_estimators=100,\n",
              "                                                    n_jobs...\n",
              "                   param_distributions={'max_depth': [None, 3, 5, 10],\n",
              "                                        'min_samples_leaf': array([ 1,  3,  5,  7,  9, 11, 13, 15, 17, 19]),\n",
              "                                        'min_samples_split': array([ 2,  4,  6,  8, 10, 12, 14, 16, 18]),\n",
              "                                        'n_estimators': array([ 10,  60, 110, 160, 210, 260, 310, 360, 410, 460, 510, 560, 610,\n",
              "       660, 710, 760, 810, 860, 910, 960])},\n",
              "                   pre_dispatch='2*n_jobs', random_state=None, refit=True,\n",
              "                   return_train_score=False, scoring=None, verbose=True)"
            ]
          },
          "metadata": {
            "tags": []
          },
          "execution_count": 57
        }
      ]
    },
    {
      "cell_type": "code",
      "metadata": {
        "colab": {
          "base_uri": "https://localhost:8080/"
        },
        "id": "p4JKIyT8jMeN",
        "outputId": "d8ecf16b-4f05-4c27-f1c0-8100da014c11"
      },
      "source": [
        "rs_rf.best_params_"
      ],
      "execution_count": null,
      "outputs": [
        {
          "output_type": "execute_result",
          "data": {
            "text/plain": [
              "{'max_depth': 10,\n",
              " 'min_samples_leaf': 3,\n",
              " 'min_samples_split': 10,\n",
              " 'n_estimators': 760}"
            ]
          },
          "metadata": {
            "tags": []
          },
          "execution_count": 58
        }
      ]
    },
    {
      "cell_type": "code",
      "metadata": {
        "colab": {
          "base_uri": "https://localhost:8080/"
        },
        "id": "9OL3zSfQjQSx",
        "outputId": "d7971efa-b077-4c2a-818f-92f3b31c48ff"
      },
      "source": [
        "rs_rf.score(X_test, y_test)"
      ],
      "execution_count": null,
      "outputs": [
        {
          "output_type": "execute_result",
          "data": {
            "text/plain": [
              "0.8772727272727273"
            ]
          },
          "metadata": {
            "tags": []
          },
          "execution_count": 59
        }
      ]
    },
    {
      "cell_type": "markdown",
      "metadata": {
        "id": "igTXAMA9kppL"
      },
      "source": [
        "### XGBoost"
      ]
    },
    {
      "cell_type": "code",
      "metadata": {
        "colab": {
          "base_uri": "https://localhost:8080/"
        },
        "id": "jwstHwMrkoWU",
        "outputId": "3b0e7b86-c211-4c07-f194-c47ea5384c1a"
      },
      "source": [
        "xgb = XGBClassifier(eval_metric='logloss', use_label_encoder=False)\n",
        "\n",
        "xgb.fit(X_train, y_train)\n",
        "xgb_pred = xgb.predict(X_test)\n",
        "xgb.score(X_test, y_test)"
      ],
      "execution_count": null,
      "outputs": [
        {
          "output_type": "execute_result",
          "data": {
            "text/plain": [
              "0.896969696969697"
            ]
          },
          "metadata": {
            "tags": []
          },
          "execution_count": 66
        }
      ]
    },
    {
      "cell_type": "markdown",
      "metadata": {
        "id": "vvAAsZ2JlLqj"
      },
      "source": [
        "Hyperparameter tuning: **XGBoost**"
      ]
    },
    {
      "cell_type": "code",
      "metadata": {
        "colab": {
          "base_uri": "https://localhost:8080/"
        },
        "id": "yPJZRqUflTnK",
        "outputId": "3c871440-fe00-4459-a767-4190efe21aa9"
      },
      "source": [
        "params_xgb = {'n_estimators': [50,100,250,400,600,800,1000], \n",
        "    'learning_rate': [0.2,0.5,0.8,1]}\n",
        "    \n",
        "rs_xgb =  RandomizedSearchCV(xgb, param_distributions=params_xgb, cv=5)\n",
        "rs_xgb.fit(X_train, y_train)\n",
        "xgb_pred_2 = rs_xgb.predict(X_test)\n",
        "rs_xgb.score(X_test, y_test)"
      ],
      "execution_count": null,
      "outputs": [
        {
          "output_type": "execute_result",
          "data": {
            "text/plain": [
              "0.9212121212121213"
            ]
          },
          "metadata": {
            "tags": []
          },
          "execution_count": 67
        }
      ]
    },
    {
      "cell_type": "markdown",
      "metadata": {
        "id": "zC11jcs_leTy"
      },
      "source": [
        "Even after tuning our XGBoost model's hyperparameter, it still does not perform like KNN model.so, KNN is best model.\n",
        "Finally, we'll evaluate our best performing model (KNN) using other metrics!"
      ]
    },
    {
      "cell_type": "markdown",
      "metadata": {
        "id": "RAgRg-bPl4O5"
      },
      "source": [
        "# Final Model Evaluation"
      ]
    },
    {
      "cell_type": "markdown",
      "metadata": {
        "id": "5rFtMljil_AQ"
      },
      "source": [
        "**Confusion Matrix**"
      ]
    },
    {
      "cell_type": "code",
      "metadata": {
        "colab": {
          "base_uri": "https://localhost:8080/"
        },
        "id": "PdEabTLgmHFL",
        "outputId": "28bad111-d324-42dc-9456-e361808fb77d"
      },
      "source": [
        "print(confusion_matrix(y_test, y_pred))"
      ],
      "execution_count": null,
      "outputs": [
        {
          "output_type": "stream",
          "text": [
            "[[175   3   0   0]\n",
            " [  7 146  10   0]\n",
            " [  0  12 142   7]\n",
            " [  0   0  11 147]]\n"
          ],
          "name": "stdout"
        }
      ]
    },
    {
      "cell_type": "markdown",
      "metadata": {
        "id": "pLPClwammywW"
      },
      "source": [
        "**Classification Report**"
      ]
    },
    {
      "cell_type": "code",
      "metadata": {
        "colab": {
          "base_uri": "https://localhost:8080/"
        },
        "id": "kpPD2BVXmuzy",
        "outputId": "ee01589e-30f9-4daa-cd88-9414918ae5ca"
      },
      "source": [
        "print(classification_report(y_test, y_pred))"
      ],
      "execution_count": null,
      "outputs": [
        {
          "output_type": "stream",
          "text": [
            "              precision    recall  f1-score   support\n",
            "\n",
            "           0       0.96      0.98      0.97       178\n",
            "           1       0.91      0.90      0.90       163\n",
            "           2       0.87      0.88      0.88       161\n",
            "           3       0.95      0.93      0.94       158\n",
            "\n",
            "    accuracy                           0.92       660\n",
            "   macro avg       0.92      0.92      0.92       660\n",
            "weighted avg       0.92      0.92      0.92       660\n",
            "\n"
          ],
          "name": "stdout"
        }
      ]
    },
    {
      "cell_type": "markdown",
      "metadata": {
        "id": "Vnz2HmC6nAIa"
      },
      "source": [
        "**Cross** **Validation**"
      ]
    },
    {
      "cell_type": "code",
      "metadata": {
        "colab": {
          "base_uri": "https://localhost:8080/"
        },
        "id": "hCz5HMOGnNRn",
        "outputId": "bfca8a0d-b843-4da3-ee14-82b1481456cc"
      },
      "source": [
        "print(f'Cross Validation Scores: ' + str(cross_val_score(knn, X, y, cv=5)))\n",
        "\n",
        "print(f'Cross Validation Score (Mean): ' + str(np.mean(cross_val_score(knn, X, y, cv=5))))"
      ],
      "execution_count": null,
      "outputs": [
        {
          "output_type": "stream",
          "text": [
            "Cross Validation Scores: [0.94   0.935  0.9425 0.935  0.9175]\n",
            "Cross Validation Score (Mean): 0.9339999999999999\n"
          ],
          "name": "stdout"
        }
      ]
    },
    {
      "cell_type": "markdown",
      "metadata": {
        "id": "oPnyzciRoDjF"
      },
      "source": [
        "Looking at the results of the cross validation, we can be sure that even if we performed the split on our data differently.\n",
        "\n",
        "\n"
      ]
    },
    {
      "cell_type": "markdown",
      "metadata": {
        "id": "rvkTAhTwof9S"
      },
      "source": [
        "# Conclusion"
      ]
    },
    {
      "cell_type": "markdown",
      "metadata": {
        "id": "7QKeW1Djo_9V"
      },
      "source": [
        "The most important features in predicting a mobile phone's price are ram, battery power, pixel height and pixel width! We figured this out by using a correlation matrix, specifically looking at the most highly correlated variables to price range.\n",
        "\n",
        "\n",
        "We used machine learning to predict mobile phones price's using all of the features in our dataset. Found that the best performing model was KNN -- outperforming Logistic Regression, Random Forest, and even XGBoost.Even able to improve our KNN model's score by tuning its hyperparameters (n_neighbors). Later on, Evaluated our KNN model using other metrics and saw that it performed very well by those metrics, as well. The fact that KNN was the best performing model to the idea that sometimes the more complicated models might not be the best model for a given dataset.\n",
        "\n",
        "\n"
      ]
    },
    {
      "cell_type": "code",
      "metadata": {
        "id": "DEE6LLz_pPlW"
      },
      "source": [
        ""
      ],
      "execution_count": null,
      "outputs": []
    }
  ]
}